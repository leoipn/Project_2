{
 "cells": [
  {
   "cell_type": "code",
   "execution_count": 1,
   "metadata": {},
   "outputs": [],
   "source": [
    "import pandas as pd\n",
    "import os\n",
    "import requests\n",
    "from datetime import timedelta, date\n",
    "from splinter import Browser\n",
    "from webdriver_manager.chrome import ChromeDriverManager\n",
    "from bs4 import BeautifulSoup"
   ]
  },
  {
   "cell_type": "code",
   "execution_count": 2,
   "metadata": {},
   "outputs": [
    {
     "name": "stderr",
     "output_type": "stream",
     "text": [
      "\n",
      "\n",
      "====== WebDriver manager ======\n",
      "Current google-chrome version is 91.0.4472\n",
      "Get LATEST driver version for 91.0.4472\n",
      "Driver [C:\\Users\\LEO PALO-IT\\.wdm\\drivers\\chromedriver\\win32\\91.0.4472.101\\chromedriver.exe] found in cache\n"
     ]
    }
   ],
   "source": [
    "executable_path = {'executable_path': ChromeDriverManager().install()}\n",
    "browser = Browser('chrome', **executable_path, headless=False)"
   ]
  },
  {
   "cell_type": "code",
   "execution_count": 3,
   "metadata": {},
   "outputs": [
    {
     "name": "stdout",
     "output_type": "stream",
     "text": [
      "[['us', 'United States']]\n"
     ]
    },
    {
     "name": "stderr",
     "output_type": "stream",
     "text": [
      "D:\\Anaconda3\\envs\\Python_01\\lib\\site-packages\\ipykernel_launcher.py:14: FutureWarning: The pandas.datetime class is deprecated and will be removed from pandas in a future version. Import from datetime instead.\n",
      "  \n"
     ]
    }
   ],
   "source": [
    "# EL EJEMPLO ORIGINAL TENIA EL AÑO 2017, MES 1, DIA 1, LO QUE SE HIZO\n",
    "# AQUÍ FUE LIMITAR LA FECHA PARA HACER UNA PRUEBA.\n",
    "# OTRA COSA A CONSIDERAR SON LOS PAÍSES, EL PROGRAMA HACE UN SCRAPING\n",
    "# Y TRAE TODOS, LO QUE SE HIZO FUE LIMITAR SOLO A ESTADOS UNIDOS PARA\n",
    "# QUE LA CONSULTA NO TARDARA TANTO.\n",
    "# PUEDEN VER EL RESULTADO DEL SCRAPING EN LA CARPETA DATA\n",
    "# EJ. data/united_states.csv\n",
    "year = 2021\n",
    "month = 7\n",
    "day = 10\n",
    "\n",
    "# It generates a list of dates between Jan 1, 2017 and today\n",
    "# in YYYY-MM-DD format\n",
    "def daterange(start_date, end_date):\n",
    "    for n in range(int ((end_date - start_date).days)):\n",
    "        yield start_date + timedelta(n)\n",
    "\n",
    "# It creates the list of page links we will get the data from.\n",
    "def create_links(country):\n",
    "    start_date = date(year, month, day)\n",
    "    end_date = pd.datetime.today().date()\n",
    "    links = []\n",
    "    dates = daterange(start_date, end_date)\n",
    "    for single_date in daterange(start_date, end_date):\n",
    "        links.append('https://spotifycharts.com/regional/' + country + '/daily/' + single_date.strftime(\"%Y-%m-%d\"))\n",
    "    return(links, dates)\n",
    "\n",
    "\n",
    "# It reads the webpage.\n",
    "def get_webpage(link):\n",
    "    browser.visit(link)\n",
    "    html = browser.html\n",
    "    soup = BeautifulSoup(html, 'html.parser')\n",
    "\n",
    "    return(soup)\n",
    "\n",
    "# It collects the data for each country, and write them in a list.\n",
    "# The entries are (in order): Song, Artist, Date, Play Count, Rank\n",
    "def get_data(country):\n",
    "    [links, dates] = create_links(country);\n",
    "    rows = []\n",
    "\n",
    "    for (link, date) in zip(links, dates):\n",
    "        soup = get_webpage(link)\n",
    "        entries = soup.find_all(\"td\", class_ = \"chart-table-track\")\n",
    "        streams = soup.find_all(\"td\", class_=\"chart-table-streams\")\n",
    "        for i, (entry, stream) in enumerate(zip(entries,streams)):\n",
    "            song = entry.find('strong').get_text()\n",
    "            artist = entry.find('span').get_text()[3:]\n",
    "            play_count = stream.get_text()\n",
    "            rows.append([song, artist, date, play_count, i+1])\n",
    "\n",
    "    return(rows)\n",
    "\n",
    "# It exports the data for each country in a csv format.\n",
    "# The column names are Song, Artist, Date, Streams, Rank.\n",
    "def save_data(country):\n",
    "    if not os.path.exists('data'):\n",
    "        os.makedirs('data')\n",
    "    file_name = 'data/' + country[1].replace(\" \", \"_\").lower() + '.csv'\n",
    "    data = get_data(country[0])\n",
    "    if(len(data)!= 0):\n",
    "        data = pd.DataFrame(data, columns=['Song','Artist','Date', 'Streams','Rank'])\n",
    "        data.to_csv(file_name, sep=',', float_format='%s', index = False)\n",
    "\n",
    "# It generates a list of countries for which the data is provided.\n",
    "def get_countries():\n",
    "    url = 'https://spotifycharts.com/regional'\n",
    "    browser.visit(url)\n",
    "    html = browser.html\n",
    "    soup = BeautifulSoup(html, 'html.parser')\n",
    "    countries = []\n",
    "    ctys = soup.find('ul').findAll(\"li\")\n",
    "    for cty in ctys:\n",
    "        countries.append([cty[\"data-value\"],cty.get_text()])\n",
    "    return(countries)\n",
    "\n",
    "# It runs the function save_data for each country.\n",
    "# In other words, it creates the .csv data files for each country.\n",
    "def scrape_data():\n",
    "    #countries = get_countries()\n",
    "    countries = [['us', 'United States']]\n",
    "    print(countries)\n",
    "    for country in countries:\n",
    "        save_data(country)\n",
    "\n",
    "    \n",
    "    \n",
    "scrape_data()"
   ]
  },
  {
   "cell_type": "code",
   "execution_count": null,
   "metadata": {},
   "outputs": [],
   "source": []
  }
 ],
 "metadata": {
  "kernelspec": {
   "display_name": "Python [conda env:Python_01]",
   "language": "python",
   "name": "conda-env-Python_01-py"
  },
  "language_info": {
   "codemirror_mode": {
    "name": "ipython",
    "version": 3
   },
   "file_extension": ".py",
   "mimetype": "text/x-python",
   "name": "python",
   "nbconvert_exporter": "python",
   "pygments_lexer": "ipython3",
   "version": "3.6.10"
  }
 },
 "nbformat": 4,
 "nbformat_minor": 5
}
