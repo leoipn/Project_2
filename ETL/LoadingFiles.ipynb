{
 "cells": [
  {
   "cell_type": "markdown",
   "metadata": {},
   "source": [
    "# Extract, Transform and Load Spotify Data Set\n",
    "<hr>"
   ]
  },
  {
   "cell_type": "markdown",
   "metadata": {},
   "source": [
    "### Dependencies"
   ]
  },
  {
   "cell_type": "code",
   "execution_count": 2,
   "metadata": {},
   "outputs": [],
   "source": [
    "import pandas as pd\n",
    "import datetime as dt\n",
    "from sqlalchemy import create_engine\n",
    "import requests\n",
    "import pymongo\n",
    "import json\n",
    "\n",
    "# pd.set_option('display.max_rows', None)\n",
    "pd.set_option('display.max_columns', None)\n",
    "pd.set_option('display.width', None)\n",
    "pd.set_option('display.max_colwidth', None)"
   ]
  },
  {
   "cell_type": "markdown",
   "metadata": {},
   "source": [
    "### Extract Data Set"
   ]
  },
  {
   "cell_type": "code",
   "execution_count": 2,
   "metadata": {},
   "outputs": [],
   "source": [
    "path = \"../Resources/Spotify_Daily_Streaming.csv\"\n",
    "spotify_data = pd.read_csv(path)"
   ]
  },
  {
   "cell_type": "code",
   "execution_count": 3,
   "metadata": {},
   "outputs": [
    {
     "data": {
      "text/html": [
       "<div>\n",
       "<style scoped>\n",
       "    .dataframe tbody tr th:only-of-type {\n",
       "        vertical-align: middle;\n",
       "    }\n",
       "\n",
       "    .dataframe tbody tr th {\n",
       "        vertical-align: top;\n",
       "    }\n",
       "\n",
       "    .dataframe thead th {\n",
       "        text-align: right;\n",
       "    }\n",
       "</style>\n",
       "<table border=\"1\" class=\"dataframe\">\n",
       "  <thead>\n",
       "    <tr style=\"text-align: right;\">\n",
       "      <th></th>\n",
       "      <th>Date</th>\n",
       "      <th>Track URL</th>\n",
       "      <th>Position</th>\n",
       "      <th>Track Name</th>\n",
       "      <th>Artist</th>\n",
       "      <th>Streams</th>\n",
       "      <th>Country</th>\n",
       "    </tr>\n",
       "  </thead>\n",
       "  <tbody>\n",
       "    <tr>\n",
       "      <th>0</th>\n",
       "      <td>7/20/2017</td>\n",
       "      <td>https://open.spotify.com/track/3RXkboS74UYzN14xTqzPyY</td>\n",
       "      <td>1</td>\n",
       "      <td>NaN</td>\n",
       "      <td>NaN</td>\n",
       "      <td>3457</td>\n",
       "      <td>Lithuania</td>\n",
       "    </tr>\n",
       "    <tr>\n",
       "      <th>1</th>\n",
       "      <td>7/31/2018</td>\n",
       "      <td>https://open.spotify.com/track/77wz2VtAwxAwYOGTJrZBKT</td>\n",
       "      <td>1</td>\n",
       "      <td>Miljonair (feat. SBMG, Lil' Kleine, Boef &amp; Ronnie Flex)</td>\n",
       "      <td>$hirak</td>\n",
       "      <td>238729</td>\n",
       "      <td>Netherlands</td>\n",
       "    </tr>\n",
       "    <tr>\n",
       "      <th>2</th>\n",
       "      <td>8/2/2018</td>\n",
       "      <td>https://open.spotify.com/track/77wz2VtAwxAwYOGTJrZBKT</td>\n",
       "      <td>1</td>\n",
       "      <td>Miljonair (feat. SBMG, Lil' Kleine, Boef &amp; Ronnie Flex)</td>\n",
       "      <td>$hirak</td>\n",
       "      <td>245639</td>\n",
       "      <td>Netherlands</td>\n",
       "    </tr>\n",
       "    <tr>\n",
       "      <th>3</th>\n",
       "      <td>7/23/2017</td>\n",
       "      <td>https://open.spotify.com/track/6mw02h3qbWmuq2bJCRjRAe</td>\n",
       "      <td>1</td>\n",
       "      <td>Millionär</td>\n",
       "      <td>187 Strassenbande</td>\n",
       "      <td>387632</td>\n",
       "      <td>Germany</td>\n",
       "    </tr>\n",
       "    <tr>\n",
       "      <th>4</th>\n",
       "      <td>6/29/2018</td>\n",
       "      <td>https://open.spotify.com/track/2iUXsYOEPhVqEBwsqP70rE</td>\n",
       "      <td>1</td>\n",
       "      <td>Youngblood</td>\n",
       "      <td>5 Seconds of Summer</td>\n",
       "      <td>261795</td>\n",
       "      <td>Australia</td>\n",
       "    </tr>\n",
       "  </tbody>\n",
       "</table>\n",
       "</div>"
      ],
      "text/plain": [
       "        Date                                              Track URL  Position  \\\n",
       "0  7/20/2017  https://open.spotify.com/track/3RXkboS74UYzN14xTqzPyY         1   \n",
       "1  7/31/2018  https://open.spotify.com/track/77wz2VtAwxAwYOGTJrZBKT         1   \n",
       "2   8/2/2018  https://open.spotify.com/track/77wz2VtAwxAwYOGTJrZBKT         1   \n",
       "3  7/23/2017  https://open.spotify.com/track/6mw02h3qbWmuq2bJCRjRAe         1   \n",
       "4  6/29/2018  https://open.spotify.com/track/2iUXsYOEPhVqEBwsqP70rE         1   \n",
       "\n",
       "                                                Track Name  \\\n",
       "0                                                      NaN   \n",
       "1  Miljonair (feat. SBMG, Lil' Kleine, Boef & Ronnie Flex)   \n",
       "2  Miljonair (feat. SBMG, Lil' Kleine, Boef & Ronnie Flex)   \n",
       "3                                                Millionär   \n",
       "4                                               Youngblood   \n",
       "\n",
       "                Artist  Streams      Country  \n",
       "0                  NaN     3457    Lithuania  \n",
       "1               $hirak   238729  Netherlands  \n",
       "2               $hirak   245639  Netherlands  \n",
       "3    187 Strassenbande   387632      Germany  \n",
       "4  5 Seconds of Summer   261795    Australia  "
      ]
     },
     "execution_count": 3,
     "metadata": {},
     "output_type": "execute_result"
    }
   ],
   "source": [
    "spotify_data.head(5)"
   ]
  },
  {
   "cell_type": "markdown",
   "metadata": {},
   "source": [
    "### Transform "
   ]
  },
  {
   "cell_type": "code",
   "execution_count": 4,
   "metadata": {},
   "outputs": [
    {
     "name": "stdout",
     "output_type": "stream",
     "text": [
      "We have a total of 8469130 rows in the data set\n"
     ]
    }
   ],
   "source": [
    "print(\"We have a total of \" + str(len(spotify_data)) + \" rows in the data set\")"
   ]
  },
  {
   "cell_type": "code",
   "execution_count": 5,
   "metadata": {},
   "outputs": [
    {
     "data": {
      "text/plain": [
       "Date          object\n",
       "Track URL     object\n",
       "Position       int64\n",
       "Track Name    object\n",
       "Artist        object\n",
       "Streams        int64\n",
       "Country       object\n",
       "dtype: object"
      ]
     },
     "execution_count": 5,
     "metadata": {},
     "output_type": "execute_result"
    }
   ],
   "source": [
    "spotify_data.dtypes"
   ]
  },
  {
   "cell_type": "markdown",
   "metadata": {},
   "source": [
    "### Change date type from obj to date"
   ]
  },
  {
   "cell_type": "code",
   "execution_count": 6,
   "metadata": {},
   "outputs": [],
   "source": [
    "spotify_data[\"Date\"] = pd.to_datetime(spotify_data[\"Date\"], format=\"%m/%d/%Y\")"
   ]
  },
  {
   "cell_type": "code",
   "execution_count": 7,
   "metadata": {},
   "outputs": [
    {
     "data": {
      "text/plain": [
       "Date          datetime64[ns]\n",
       "Track URL             object\n",
       "Position               int64\n",
       "Track Name            object\n",
       "Artist                object\n",
       "Streams                int64\n",
       "Country               object\n",
       "dtype: object"
      ]
     },
     "execution_count": 7,
     "metadata": {},
     "output_type": "execute_result"
    }
   ],
   "source": [
    "spotify_data.dtypes"
   ]
  },
  {
   "cell_type": "markdown",
   "metadata": {},
   "source": [
    "### Verify NAs and kill them all"
   ]
  },
  {
   "cell_type": "code",
   "execution_count": 8,
   "metadata": {},
   "outputs": [
    {
     "data": {
      "text/plain": [
       "False    8466361\n",
       "True        2769\n",
       "Name: Artist, dtype: int64"
      ]
     },
     "execution_count": 8,
     "metadata": {},
     "output_type": "execute_result"
    }
   ],
   "source": [
    "spotify_data[\"Artist\"].isna().value_counts()"
   ]
  },
  {
   "cell_type": "code",
   "execution_count": 9,
   "metadata": {},
   "outputs": [
    {
     "data": {
      "text/plain": [
       "False    8466353\n",
       "Name: Artist, dtype: int64"
      ]
     },
     "execution_count": 9,
     "metadata": {},
     "output_type": "execute_result"
    }
   ],
   "source": [
    "spotify_data_wNA = spotify_data.dropna()\n",
    "spotify_data_wNA[\"Artist\"].isna().value_counts()"
   ]
  },
  {
   "cell_type": "markdown",
   "metadata": {},
   "source": [
    "### Separate Global and Country Data"
   ]
  },
  {
   "cell_type": "code",
   "execution_count": 10,
   "metadata": {},
   "outputs": [],
   "source": [
    "spotify_data_global = spotify_data_wNA[spotify_data_wNA[\"Country\"]==\"Global\"] #Global Data Set\n",
    "spotify_data_bycountry = spotify_data_wNA[spotify_data_wNA[\"Country\"]!=\"Global\"] #Country Data Set"
   ]
  },
  {
   "cell_type": "markdown",
   "metadata": {},
   "source": [
    "### Get unique Artist List to retrieve info (Genre, Followers and Image) from Spotify API"
   ]
  },
  {
   "cell_type": "code",
   "execution_count": 11,
   "metadata": {},
   "outputs": [
    {
     "data": {
      "text/plain": [
       "11046"
      ]
     },
     "execution_count": 11,
     "metadata": {},
     "output_type": "execute_result"
    }
   ],
   "source": [
    "# Get unique Artists from all the Data Set\n",
    "spotify_artists = spotify_data_wNA.groupby(\"Artist\").sum().sort_values(by=['Streams'],ascending=False).reset_index()\n",
    "len(spotify_artists[\"Artist\"])"
   ]
  },
  {
   "cell_type": "code",
   "execution_count": 15,
   "metadata": {},
   "outputs": [],
   "source": [
    "# spotify_artists = spotify_artists[~spotify_artists.Artist.isin(spotify_artists_df1[\"Artist\"])]\n",
    "# spotify_artists"
   ]
  },
  {
   "cell_type": "markdown",
   "metadata": {},
   "source": [
    "### Load data into MongoDB Collection adding Spotify Genre by Artist"
   ]
  },
  {
   "cell_type": "code",
   "execution_count": null,
   "metadata": {},
   "outputs": [],
   "source": [
    "token=\"BQAqFieWd9Vs7_PadOTnr5aa5Z718R_mmO6WACUnALMgjtzORXuE1eV6wxBonSkIlbKt924WCoIdF2Ia9QSgFlKzw2VONVEbgzTYTMUobMQTP4CSybOuLgCyAc8dasFXh8ycBwfmtLKvrHb5D9v7c3t_DxahFixpPZd-TsBPoCbRgw\"\n",
    "\n",
    "headers_dict = {\"Authorization\": f'Bearer {token}'}\n",
    "\n",
    "# Initialize PyMongo to work with MongoDBs\n",
    "conn = 'mongodb://localhost:27017'\n",
    "client = pymongo.MongoClient(conn)\n",
    "\n",
    "# Define database and collection\n",
    "db = client.Spotifydb\n",
    "collection = db.SpotifyArtists\n",
    "# collection.drop()\n",
    "\n",
    "rows=len(spotify_artists)\n",
    "artist_dict={}\n",
    "# spotify_artist_dict=[]\n",
    "\n",
    "for row in range(0,rows):\n",
    "    #Hacer el llamado a la API de Spotify usando spotify_data_wNA.iloc[row,4]\n",
    "    artist = spotify_artists.iloc[row,0]\n",
    "    if (artist[0]==\"#\"):\n",
    "        artist=artist[1:]\n",
    "    \n",
    "    response = requests.get(f'https://api.spotify.com/v1/search?q={artist}&type=artist', headers=headers_dict).json()\n",
    "#     print(response)\n",
    "    artists = response[\"artists\"]\n",
    "    \n",
    "    try:\n",
    "        items = artists[\"items\"][0]\n",
    "        genres = items[\"genres\"]\n",
    "        genre = items[\"genres\"][0]\n",
    "        followers = items[\"followers\"][\"total\"]\n",
    "        image = items[\"images\"][0][\"url\"]\n",
    "        \n",
    "    except:\n",
    "#         print(artists)\n",
    "        genre = 'None'\n",
    "        genres = ['Unavailable']\n",
    "        followers = 'None'\n",
    "        image = 'No Image Found'\n",
    "        \n",
    "        \n",
    "    artist_dict={'Artist':artist,\n",
    "                 'Genre':genre,\n",
    "                 'Genres': genres,\n",
    "                 'Followers': followers,\n",
    "                 'Image': image\n",
    "                 }\n",
    "    collection.insert_one(artist_dict)\n",
    "#     spotify_artist_dict.append(artist_dict)\n",
    "   "
   ]
  },
  {
   "cell_type": "code",
   "execution_count": 30,
   "metadata": {},
   "outputs": [
    {
     "data": {
      "text/html": [
       "<div>\n",
       "<style scoped>\n",
       "    .dataframe tbody tr th:only-of-type {\n",
       "        vertical-align: middle;\n",
       "    }\n",
       "\n",
       "    .dataframe tbody tr th {\n",
       "        vertical-align: top;\n",
       "    }\n",
       "\n",
       "    .dataframe thead th {\n",
       "        text-align: right;\n",
       "    }\n",
       "</style>\n",
       "<table border=\"1\" class=\"dataframe\">\n",
       "  <thead>\n",
       "    <tr style=\"text-align: right;\">\n",
       "      <th></th>\n",
       "      <th>Artist</th>\n",
       "      <th>Followers</th>\n",
       "      <th>Genre</th>\n",
       "      <th>Genres</th>\n",
       "      <th>Image</th>\n",
       "    </tr>\n",
       "  </thead>\n",
       "  <tbody>\n",
       "    <tr>\n",
       "      <th>3014</th>\n",
       "      <td>TocoParaVos</td>\n",
       "      <td>251948</td>\n",
       "      <td>cumbia pop</td>\n",
       "      <td>[cumbia pop]</td>\n",
       "      <td>https://i.scdn.co/image/ab6761610000e5eb74053255cb8a8eac221c760d</td>\n",
       "    </tr>\n",
       "  </tbody>\n",
       "</table>\n",
       "</div>"
      ],
      "text/plain": [
       "           Artist Followers       Genre        Genres  \\\n",
       "3014  TocoParaVos    251948  cumbia pop  [cumbia pop]   \n",
       "\n",
       "                                                                 Image  \n",
       "3014  https://i.scdn.co/image/ab6761610000e5eb74053255cb8a8eac221c760d  "
      ]
     },
     "execution_count": 30,
     "metadata": {},
     "output_type": "execute_result"
    }
   ],
   "source": [
    "# pd.read_json()\n",
    "spotify_artists_json = json.load(open(\"../Resources/SpotifyArtists.json\"))\n",
    "spotify_artists_df = pd.DataFrame(spotify_artists_json)\n",
    "spotify_artists_df[spotify_artists_df[\"Artist\"]==\"TocoParaVos\"]"
   ]
  },
  {
   "cell_type": "code",
   "execution_count": 13,
   "metadata": {},
   "outputs": [
    {
     "data": {
      "text/html": [
       "<div>\n",
       "<style scoped>\n",
       "    .dataframe tbody tr th:only-of-type {\n",
       "        vertical-align: middle;\n",
       "    }\n",
       "\n",
       "    .dataframe tbody tr th {\n",
       "        vertical-align: top;\n",
       "    }\n",
       "\n",
       "    .dataframe thead th {\n",
       "        text-align: right;\n",
       "    }\n",
       "</style>\n",
       "<table border=\"1\" class=\"dataframe\">\n",
       "  <thead>\n",
       "    <tr style=\"text-align: right;\">\n",
       "      <th></th>\n",
       "      <th>Artist</th>\n",
       "      <th>Followers</th>\n",
       "      <th>Genre</th>\n",
       "      <th>Genres</th>\n",
       "      <th>Image</th>\n",
       "    </tr>\n",
       "  </thead>\n",
       "  <tbody>\n",
       "    <tr>\n",
       "      <th>3014</th>\n",
       "      <td>#TocoParaVos</td>\n",
       "      <td>251948</td>\n",
       "      <td>cumbia pop</td>\n",
       "      <td>[cumbia pop]</td>\n",
       "      <td>https://i.scdn.co/image/ab6761610000e5eb74053255cb8a8eac221c760d</td>\n",
       "    </tr>\n",
       "  </tbody>\n",
       "</table>\n",
       "</div>"
      ],
      "text/plain": [
       "            Artist Followers       Genre        Genres  \\\n",
       "3014  #TocoParaVos    251948  cumbia pop  [cumbia pop]   \n",
       "\n",
       "                                                                 Image  \n",
       "3014  https://i.scdn.co/image/ab6761610000e5eb74053255cb8a8eac221c760d  "
      ]
     },
     "execution_count": 13,
     "metadata": {},
     "output_type": "execute_result"
    }
   ],
   "source": [
    "spotify_artists_df.loc[3014,\"Artist\"] = \"#TocoParaVos\"\n",
    "spotify_artists_df[spotify_artists_df[\"Artist\"]==\"#TocoParaVos\"]"
   ]
  },
  {
   "cell_type": "markdown",
   "metadata": {},
   "source": [
    "### Complete Final Data Base for Historial Top 200 with Genre and Image "
   ]
  },
  {
   "cell_type": "code",
   "execution_count": 14,
   "metadata": {},
   "outputs": [],
   "source": [
    "# Complete Data set by country with genre\n",
    "spotify_data_complete_country = pd.merge(spotify_data_bycountry, spotify_artists_df, how=\"left\", on=\"Artist\")\n",
    "spotify_data_complete_country = spotify_data_complete_country[[\"Date\", \"Track Name\", \"Artist\",\"Genre\",\"Streams\",\"Country\",\"Position\",\"Genres\",\"Track URL\",\"Image\"]]\n",
    "\n",
    "# Complete Data set Global with genre\n",
    "spotify_data_complete_global = pd.merge(spotify_data_global, spotify_artists_df, how=\"left\", on=\"Artist\")\n",
    "spotify_data_complete_global = spotify_data_complete_global[[\"Date\", \"Track Name\", \"Artist\",\"Genre\",\"Streams\",\"Country\",\"Position\",\"Genres\",\"Track URL\",\"Image\"]]"
   ]
  },
  {
   "cell_type": "markdown",
   "metadata": {},
   "source": [
    "### Added Column Month & Year to the data set"
   ]
  },
  {
   "cell_type": "code",
   "execution_count": 23,
   "metadata": {},
   "outputs": [],
   "source": [
    "# Complete Data set by country with MonthYear\n",
    "# spotify_data_complete_country[\"MonthYear\"] = (pd.DatetimeIndex(spotify_data_complete_country['Date']).year).astype(str)+\"-\"+(spotify_data_complete_country['Date'].dt.strftime('%m')).astype(str)+\"-01\"\n",
    "spotify_data_complete_country[\"MonthYear\"] = (spotify_data_complete_country['Date'].dt.strftime('%m')).astype(str)+\"-01-\"+(pd.DatetimeIndex(spotify_data_complete_country['Date']).year).astype(str)\n",
    "spotify_data_complete_country[\"MonthYear\"] = pd.to_datetime(spotify_data_complete_country[\"MonthYear\"], format=\"%m-%d-%Y\")\n",
    "\n",
    "\n",
    "# Complete Data set Global with MonthYear\n",
    "spotify_data_complete_global[\"MonthYear\"] = (spotify_data_complete_global['Date'].dt.strftime('%m')).astype(str)+\"-01-\"+(pd.DatetimeIndex(spotify_data_complete_global['Date']).year).astype(str)\n",
    "spotify_data_complete_global[\"MonthYear\"] = pd.to_datetime(spotify_data_complete_global[\"MonthYear\"], format=\"%m-%d-%Y\")"
   ]
  },
  {
   "cell_type": "code",
   "execution_count": 12,
   "metadata": {},
   "outputs": [],
   "source": [
    "# spotify_data_complete_country.head()"
   ]
  },
  {
   "cell_type": "markdown",
   "metadata": {},
   "source": [
    "## Load Final Spotify Data Base to MongoDB"
   ]
  },
  {
   "cell_type": "markdown",
   "metadata": {},
   "source": [
    "### Load Top 200 by Country"
   ]
  },
  {
   "cell_type": "code",
   "execution_count": 26,
   "metadata": {},
   "outputs": [],
   "source": [
    "# Initialize PyMongo to work with MongoDBs\n",
    "conn = 'mongodb://localhost:27017'\n",
    "client = pymongo.MongoClient(conn)\n",
    "\n",
    "# Define database and collection\n",
    "db = client.Spotifydb\n",
    "collection = db.Top200byCountry\n",
    "collection.drop()\n",
    "\n",
    "\n",
    "rows=len(spotify_data_complete_country)\n",
    "data=spotify_data_complete_country\n",
    "songs_dict={}\n",
    "x=0\n",
    "\n",
    "\n",
    "for row in range(0,10000):\n",
    "        \n",
    "    songs_dict={'Date':data.iloc[row,0],\n",
    "                'MonthYear':data.iloc[row,10],\n",
    "                'Track_Name':data.iloc[row,1],\n",
    "                'Artist':data.iloc[row,2],\n",
    "                'Genre':data.iloc[row,3],\n",
    "                'Streams':data.iloc[row,4].astype(float),\n",
    "                'Country':data.iloc[row,5],\n",
    "                'Position':data.iloc[row,6].astype(float),\n",
    "                'Genres':data.iloc[row,7],\n",
    "                'Track_URL':data.iloc[row,8],\n",
    "                'Image':data.iloc[row,9],\n",
    "                 }\n",
    "    \n",
    "    collection.insert_one(songs_dict)"
   ]
  },
  {
   "cell_type": "markdown",
   "metadata": {},
   "source": [
    "### Songs popularity"
   ]
  },
  {
   "cell_type": "code",
   "execution_count": 11,
   "metadata": {},
   "outputs": [],
   "source": [
    "TopGlobal_json = pd.read_json('../Resources/TopGlobal.json', encoding='UTF-8')\n",
    "TopGlobal_df = pd.DataFrame(TopGlobal_json)\n",
    "# TopGlobal_df.head()"
   ]
  },
  {
   "cell_type": "code",
   "execution_count": null,
   "metadata": {},
   "outputs": [],
   "source": [
    "# Initialize PyMongo to work with MongoDBs\n",
    "conn = 'mongodb://localhost:27017'\n",
    "client = pymongo.MongoClient(conn)\n",
    "\n",
    "# Define database and collection\n",
    "db = client.Spotifydb\n",
    "collection = db.TopGlobal2\n",
    "collection.drop()\n",
    "\n",
    "\n",
    "rows = len(TopGlobal_df)\n",
    "data = TopGlobal_df\n",
    "songs_dict = {}\n",
    "x=0\n",
    "\n",
    "\n",
    "for row in range(0,rows):\n",
    "        \n",
    "    songs_dict={'Artist Name':data.iloc[row,1],\n",
    "                'Track Name':data.iloc[row,2],\n",
    "                'Danceability':data.iloc[row,3].astype(float),\n",
    "                'Energy':data.iloc[row,4].astype(float),\n",
    "                'Key':data.iloc[row,5].astype(float),\n",
    "                'Loudness':data.iloc[row,6].astype(float),\n",
    "                'Acousticness':data.iloc[row,7].astype(float),\n",
    "                'Instrumentalness':data.iloc[row,8].astype(float),\n",
    "                'Liveness':data.iloc[row,9].astype(float),\n",
    "                'Valence':data.iloc[row,10].astype(float),\n",
    "                'Tempo':data.iloc[row,11].astype(float),\n",
    "                'Track Reference':data.iloc[row,12],\n",
    "                 }\n",
    "    \n",
    "    collection.insert_one(songs_dict)"
   ]
  }
 ],
 "metadata": {
  "kernelspec": {
   "display_name": "Python 3",
   "language": "python",
   "name": "python3"
  },
  "language_info": {
   "codemirror_mode": {
    "name": "ipython",
    "version": 3
   },
   "file_extension": ".py",
   "mimetype": "text/x-python",
   "name": "python",
   "nbconvert_exporter": "python",
   "pygments_lexer": "ipython3",
   "version": "3.8.8"
  }
 },
 "nbformat": 4,
 "nbformat_minor": 4
}
