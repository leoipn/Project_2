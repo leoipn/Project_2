{
 "cells": [
  {
   "cell_type": "markdown",
   "metadata": {},
   "source": [
    "# Extract, Transform and Load Spotify Data Set\n",
    "<hr>"
   ]
  },
  {
   "cell_type": "markdown",
   "metadata": {},
   "source": [
    "### Dependencies"
   ]
  },
  {
   "cell_type": "code",
   "execution_count": 2,
   "metadata": {},
   "outputs": [],
   "source": [
    "import pandas as pd\n",
    "import datetime as dt\n",
    "from sqlalchemy import create_engine\n",
    "import requests\n",
    "import pymongo\n",
    "import json\n",
    "\n",
    "# pd.set_option('display.max_rows', None)\n",
    "pd.set_option('display.max_columns', None)\n",
    "pd.set_option('display.width', None)\n",
    "pd.set_option('display.max_colwidth', None)"
   ]
  },
  {
   "cell_type": "markdown",
   "metadata": {},
   "source": [
    "### Extract Data Set"
   ]
  },
  {
   "cell_type": "code",
   "execution_count": 3,
   "metadata": {},
   "outputs": [],
   "source": [
    "path = \"../Resources/Spotify_Daily_Streaming.csv\"\n",
    "spotify_data = pd.read_csv(path)"
   ]
  },
  {
   "cell_type": "code",
   "execution_count": 4,
   "metadata": {},
   "outputs": [
    {
     "data": {
      "text/html": [
       "<div>\n",
       "<style scoped>\n",
       "    .dataframe tbody tr th:only-of-type {\n",
       "        vertical-align: middle;\n",
       "    }\n",
       "\n",
       "    .dataframe tbody tr th {\n",
       "        vertical-align: top;\n",
       "    }\n",
       "\n",
       "    .dataframe thead th {\n",
       "        text-align: right;\n",
       "    }\n",
       "</style>\n",
       "<table border=\"1\" class=\"dataframe\">\n",
       "  <thead>\n",
       "    <tr style=\"text-align: right;\">\n",
       "      <th></th>\n",
       "      <th>Date</th>\n",
       "      <th>Track URL</th>\n",
       "      <th>Position</th>\n",
       "      <th>Track Name</th>\n",
       "      <th>Artist</th>\n",
       "      <th>Streams</th>\n",
       "      <th>Country</th>\n",
       "    </tr>\n",
       "  </thead>\n",
       "  <tbody>\n",
       "    <tr>\n",
       "      <th>0</th>\n",
       "      <td>7/20/2017</td>\n",
       "      <td>https://open.spotify.com/track/3RXkboS74UYzN14xTqzPyY</td>\n",
       "      <td>1</td>\n",
       "      <td>NaN</td>\n",
       "      <td>NaN</td>\n",
       "      <td>3457</td>\n",
       "      <td>Lithuania</td>\n",
       "    </tr>\n",
       "    <tr>\n",
       "      <th>1</th>\n",
       "      <td>7/31/2018</td>\n",
       "      <td>https://open.spotify.com/track/77wz2VtAwxAwYOGTJrZBKT</td>\n",
       "      <td>1</td>\n",
       "      <td>Miljonair (feat. SBMG, Lil' Kleine, Boef &amp; Ronnie Flex)</td>\n",
       "      <td>$hirak</td>\n",
       "      <td>238729</td>\n",
       "      <td>Netherlands</td>\n",
       "    </tr>\n",
       "    <tr>\n",
       "      <th>2</th>\n",
       "      <td>8/2/2018</td>\n",
       "      <td>https://open.spotify.com/track/77wz2VtAwxAwYOGTJrZBKT</td>\n",
       "      <td>1</td>\n",
       "      <td>Miljonair (feat. SBMG, Lil' Kleine, Boef &amp; Ronnie Flex)</td>\n",
       "      <td>$hirak</td>\n",
       "      <td>245639</td>\n",
       "      <td>Netherlands</td>\n",
       "    </tr>\n",
       "    <tr>\n",
       "      <th>3</th>\n",
       "      <td>7/23/2017</td>\n",
       "      <td>https://open.spotify.com/track/6mw02h3qbWmuq2bJCRjRAe</td>\n",
       "      <td>1</td>\n",
       "      <td>Millionär</td>\n",
       "      <td>187 Strassenbande</td>\n",
       "      <td>387632</td>\n",
       "      <td>Germany</td>\n",
       "    </tr>\n",
       "    <tr>\n",
       "      <th>4</th>\n",
       "      <td>6/29/2018</td>\n",
       "      <td>https://open.spotify.com/track/2iUXsYOEPhVqEBwsqP70rE</td>\n",
       "      <td>1</td>\n",
       "      <td>Youngblood</td>\n",
       "      <td>5 Seconds of Summer</td>\n",
       "      <td>261795</td>\n",
       "      <td>Australia</td>\n",
       "    </tr>\n",
       "  </tbody>\n",
       "</table>\n",
       "</div>"
      ],
      "text/plain": [
       "        Date                                              Track URL  Position  \\\n",
       "0  7/20/2017  https://open.spotify.com/track/3RXkboS74UYzN14xTqzPyY         1   \n",
       "1  7/31/2018  https://open.spotify.com/track/77wz2VtAwxAwYOGTJrZBKT         1   \n",
       "2   8/2/2018  https://open.spotify.com/track/77wz2VtAwxAwYOGTJrZBKT         1   \n",
       "3  7/23/2017  https://open.spotify.com/track/6mw02h3qbWmuq2bJCRjRAe         1   \n",
       "4  6/29/2018  https://open.spotify.com/track/2iUXsYOEPhVqEBwsqP70rE         1   \n",
       "\n",
       "                                                Track Name  \\\n",
       "0                                                      NaN   \n",
       "1  Miljonair (feat. SBMG, Lil' Kleine, Boef & Ronnie Flex)   \n",
       "2  Miljonair (feat. SBMG, Lil' Kleine, Boef & Ronnie Flex)   \n",
       "3                                                Millionär   \n",
       "4                                               Youngblood   \n",
       "\n",
       "                Artist  Streams      Country  \n",
       "0                  NaN     3457    Lithuania  \n",
       "1               $hirak   238729  Netherlands  \n",
       "2               $hirak   245639  Netherlands  \n",
       "3    187 Strassenbande   387632      Germany  \n",
       "4  5 Seconds of Summer   261795    Australia  "
      ]
     },
     "execution_count": 4,
     "metadata": {},
     "output_type": "execute_result"
    }
   ],
   "source": [
    "spotify_data.head(5)"
   ]
  },
  {
   "cell_type": "markdown",
   "metadata": {},
   "source": [
    "### Transform "
   ]
  },
  {
   "cell_type": "code",
   "execution_count": 5,
   "metadata": {},
   "outputs": [
    {
     "name": "stdout",
     "output_type": "stream",
     "text": [
      "We have a total of 8469130 rows in the data set\n"
     ]
    }
   ],
   "source": [
    "print(\"We have a total of \" + str(len(spotify_data)) + \" rows in the data set\")"
   ]
  },
  {
   "cell_type": "code",
   "execution_count": 6,
   "metadata": {},
   "outputs": [
    {
     "data": {
      "text/plain": [
       "Date          object\n",
       "Track URL     object\n",
       "Position       int64\n",
       "Track Name    object\n",
       "Artist        object\n",
       "Streams        int64\n",
       "Country       object\n",
       "dtype: object"
      ]
     },
     "execution_count": 6,
     "metadata": {},
     "output_type": "execute_result"
    }
   ],
   "source": [
    "spotify_data.dtypes"
   ]
  },
  {
   "cell_type": "markdown",
   "metadata": {},
   "source": [
    "### Change date type from obj to date"
   ]
  },
  {
   "cell_type": "code",
   "execution_count": 7,
   "metadata": {},
   "outputs": [],
   "source": [
    "spotify_data[\"Date\"] = pd.to_datetime(spotify_data[\"Date\"], format=\"%m/%d/%Y\")"
   ]
  },
  {
   "cell_type": "code",
   "execution_count": 8,
   "metadata": {},
   "outputs": [
    {
     "data": {
      "text/plain": [
       "Date          datetime64[ns]\n",
       "Track URL             object\n",
       "Position               int64\n",
       "Track Name            object\n",
       "Artist                object\n",
       "Streams                int64\n",
       "Country               object\n",
       "dtype: object"
      ]
     },
     "execution_count": 8,
     "metadata": {},
     "output_type": "execute_result"
    }
   ],
   "source": [
    "spotify_data.dtypes"
   ]
  },
  {
   "cell_type": "markdown",
   "metadata": {},
   "source": [
    "### Verify NAs and kill them all"
   ]
  },
  {
   "cell_type": "code",
   "execution_count": 9,
   "metadata": {},
   "outputs": [
    {
     "data": {
      "text/plain": [
       "False    8466361\n",
       "True        2769\n",
       "Name: Artist, dtype: int64"
      ]
     },
     "execution_count": 9,
     "metadata": {},
     "output_type": "execute_result"
    }
   ],
   "source": [
    "spotify_data[\"Artist\"].isna().value_counts()"
   ]
  },
  {
   "cell_type": "code",
   "execution_count": 10,
   "metadata": {},
   "outputs": [
    {
     "data": {
      "text/plain": [
       "False    8466353\n",
       "Name: Artist, dtype: int64"
      ]
     },
     "execution_count": 10,
     "metadata": {},
     "output_type": "execute_result"
    }
   ],
   "source": [
    "spotify_data_wNA = spotify_data.dropna()\n",
    "spotify_data_wNA[\"Artist\"].isna().value_counts()"
   ]
  },
  {
   "cell_type": "markdown",
   "metadata": {},
   "source": [
    "### Separate Global and Country Data"
   ]
  },
  {
   "cell_type": "code",
   "execution_count": 11,
   "metadata": {},
   "outputs": [],
   "source": [
    "spotify_data_global = spotify_data_wNA[spotify_data_wNA[\"Country\"]==\"Global\"] #Global Data Set\n",
    "spotify_data_bycountry = spotify_data_wNA[spotify_data_wNA[\"Country\"]!=\"Global\"] #Country Data Set"
   ]
  },
  {
   "cell_type": "markdown",
   "metadata": {},
   "source": [
    "### Get unique Artist List to retrieve info (Genre, Followers and Image) from Spotify API"
   ]
  },
  {
   "cell_type": "code",
   "execution_count": 12,
   "metadata": {},
   "outputs": [
    {
     "data": {
      "text/plain": [
       "11046"
      ]
     },
     "execution_count": 12,
     "metadata": {},
     "output_type": "execute_result"
    }
   ],
   "source": [
    "# Get unique Artists from all the Data Set\n",
    "spotify_artists = spotify_data_wNA.groupby(\"Artist\").sum().sort_values(by=['Streams'],ascending=False).reset_index()\n",
    "len(spotify_artists[\"Artist\"])"
   ]
  },
  {
   "cell_type": "code",
   "execution_count": 13,
   "metadata": {},
   "outputs": [],
   "source": [
    "# spotify_artists = spotify_artists[~spotify_artists.Artist.isin(spotify_artists_df1[\"Artist\"])]\n",
    "# spotify_artists"
   ]
  },
  {
   "cell_type": "markdown",
   "metadata": {},
   "source": [
    "### Load data into MongoDB Collection adding Spotify Genre by Artist"
   ]
  },
  {
   "cell_type": "code",
   "execution_count": null,
   "metadata": {},
   "outputs": [],
   "source": [
    "token=\"BQAqFieWd9Vs7_PadOTnr5aa5Z718R_mmO6WACUnALMgjtzORXuE1eV6wxBonSkIlbKt924WCoIdF2Ia9QSgFlKzw2VONVEbgzTYTMUobMQTP4CSybOuLgCyAc8dasFXh8ycBwfmtLKvrHb5D9v7c3t_DxahFixpPZd-TsBPoCbRgw\"\n",
    "\n",
    "headers_dict = {\"Authorization\": f'Bearer {token}'}\n",
    "\n",
    "# Initialize PyMongo to work with MongoDBs\n",
    "conn = 'mongodb://localhost:27017'\n",
    "client = pymongo.MongoClient(conn)\n",
    "\n",
    "# Define database and collection\n",
    "db = client.Spotifydb\n",
    "collection = db.SpotifyArtists\n",
    "# collection.drop()\n",
    "\n",
    "rows=len(spotify_artists)\n",
    "artist_dict={}\n",
    "# spotify_artist_dict=[]\n",
    "\n",
    "for row in range(0,rows):\n",
    "    #Hacer el llamado a la API de Spotify usando spotify_data_wNA.iloc[row,4]\n",
    "    artist = spotify_artists.iloc[row,0]\n",
    "    if (artist[0]==\"#\"):\n",
    "        artist=artist[1:]\n",
    "    \n",
    "    response = requests.get(f'https://api.spotify.com/v1/search?q={artist}&type=artist', headers=headers_dict).json()\n",
    "#     print(response)\n",
    "    artists = response[\"artists\"]\n",
    "    \n",
    "    try:\n",
    "        items = artists[\"items\"][0]\n",
    "        genres = items[\"genres\"]\n",
    "        genre = items[\"genres\"][0]\n",
    "        followers = items[\"followers\"][\"total\"]\n",
    "        image = items[\"images\"][0][\"url\"]\n",
    "        \n",
    "    except:\n",
    "#         print(artists)\n",
    "        genre = 'None'\n",
    "        genres = ['Unavailable']\n",
    "        followers = 'None'\n",
    "        image = 'No Image Found'\n",
    "        \n",
    "        \n",
    "    artist_dict={'Artist':artist,\n",
    "                 'Genre':genre,\n",
    "                 'Genres': genres,\n",
    "                 'Followers': followers,\n",
    "                 'Image': image\n",
    "                 }\n",
    "    collection.insert_one(artist_dict)\n",
    "#     spotify_artist_dict.append(artist_dict)\n",
    "   "
   ]
  },
  {
   "cell_type": "code",
   "execution_count": 28,
   "metadata": {},
   "outputs": [
    {
     "data": {
      "text/html": [
       "<div>\n",
       "<style scoped>\n",
       "    .dataframe tbody tr th:only-of-type {\n",
       "        vertical-align: middle;\n",
       "    }\n",
       "\n",
       "    .dataframe tbody tr th {\n",
       "        vertical-align: top;\n",
       "    }\n",
       "\n",
       "    .dataframe thead th {\n",
       "        text-align: right;\n",
       "    }\n",
       "</style>\n",
       "<table border=\"1\" class=\"dataframe\">\n",
       "  <thead>\n",
       "    <tr style=\"text-align: right;\">\n",
       "      <th></th>\n",
       "      <th>Artist</th>\n",
       "      <th>Followers</th>\n",
       "      <th>Genre</th>\n",
       "      <th>Genres</th>\n",
       "      <th>Image</th>\n",
       "    </tr>\n",
       "  </thead>\n",
       "  <tbody>\n",
       "    <tr>\n",
       "      <th>3014</th>\n",
       "      <td>TocoParaVos</td>\n",
       "      <td>251948</td>\n",
       "      <td>cumbia pop</td>\n",
       "      <td>[cumbia pop]</td>\n",
       "      <td>https://i.scdn.co/image/ab6761610000e5eb74053255cb8a8eac221c760d</td>\n",
       "    </tr>\n",
       "  </tbody>\n",
       "</table>\n",
       "</div>"
      ],
      "text/plain": [
       "           Artist Followers       Genre        Genres  \\\n",
       "3014  TocoParaVos    251948  cumbia pop  [cumbia pop]   \n",
       "\n",
       "                                                                 Image  \n",
       "3014  https://i.scdn.co/image/ab6761610000e5eb74053255cb8a8eac221c760d  "
      ]
     },
     "execution_count": 28,
     "metadata": {},
     "output_type": "execute_result"
    }
   ],
   "source": [
    "# pd.read_json()\n",
    "spotify_artists_json = json.load(open(\"../Resources/SpotifyArtists.json\"))\n",
    "spotify_artists_df = pd.DataFrame(spotify_artists_json)\n",
    "spotify_artists_df[spotify_artists_df[\"Artist\"]==\"TocoParaVos\"]"
   ]
  },
  {
   "cell_type": "code",
   "execution_count": 29,
   "metadata": {},
   "outputs": [
    {
     "data": {
      "text/html": [
       "<div>\n",
       "<style scoped>\n",
       "    .dataframe tbody tr th:only-of-type {\n",
       "        vertical-align: middle;\n",
       "    }\n",
       "\n",
       "    .dataframe tbody tr th {\n",
       "        vertical-align: top;\n",
       "    }\n",
       "\n",
       "    .dataframe thead th {\n",
       "        text-align: right;\n",
       "    }\n",
       "</style>\n",
       "<table border=\"1\" class=\"dataframe\">\n",
       "  <thead>\n",
       "    <tr style=\"text-align: right;\">\n",
       "      <th></th>\n",
       "      <th>Artist</th>\n",
       "      <th>Followers</th>\n",
       "      <th>Genre</th>\n",
       "      <th>Genres</th>\n",
       "      <th>Image</th>\n",
       "    </tr>\n",
       "  </thead>\n",
       "  <tbody>\n",
       "    <tr>\n",
       "      <th>3014</th>\n",
       "      <td>#TocoParaVos</td>\n",
       "      <td>251948</td>\n",
       "      <td>cumbia pop</td>\n",
       "      <td>[cumbia pop]</td>\n",
       "      <td>https://i.scdn.co/image/ab6761610000e5eb74053255cb8a8eac221c760d</td>\n",
       "    </tr>\n",
       "  </tbody>\n",
       "</table>\n",
       "</div>"
      ],
      "text/plain": [
       "            Artist Followers       Genre        Genres  \\\n",
       "3014  #TocoParaVos    251948  cumbia pop  [cumbia pop]   \n",
       "\n",
       "                                                                 Image  \n",
       "3014  https://i.scdn.co/image/ab6761610000e5eb74053255cb8a8eac221c760d  "
      ]
     },
     "execution_count": 29,
     "metadata": {},
     "output_type": "execute_result"
    }
   ],
   "source": [
    "spotify_artists_df.loc[3014,\"Artist\"] = \"#TocoParaVos\"\n",
    "spotify_artists_df[spotify_artists_df[\"Artist\"]==\"#TocoParaVos\"]"
   ]
  },
  {
   "cell_type": "markdown",
   "metadata": {},
   "source": [
    "### Complete Final Data Base for Historial Top 200 with Genre and Image "
   ]
  },
  {
   "cell_type": "code",
   "execution_count": 30,
   "metadata": {},
   "outputs": [],
   "source": [
    "# Complete Data set by country with genre\n",
    "spotify_data_complete_country = pd.merge(spotify_data_bycountry, spotify_artists_df, how=\"left\", on=\"Artist\")\n",
    "spotify_data_complete_country = spotify_data_complete_country[[\"Date\", \"Track Name\", \"Artist\",\"Genre\",\"Streams\",\"Country\",\"Position\",\"Genres\",\"Track URL\",\"Image\"]]\n",
    "\n",
    "# Complete Data set Global with genre\n",
    "spotify_data_complete_global = pd.merge(spotify_data_global, spotify_artists_df, how=\"left\", on=\"Artist\")\n",
    "spotify_data_complete_global = spotify_data_complete_global[[\"Date\", \"Track Name\", \"Artist\",\"Genre\",\"Streams\",\"Country\",\"Position\",\"Genres\",\"Track URL\",\"Image\"]]"
   ]
  },
  {
   "cell_type": "markdown",
   "metadata": {},
   "source": [
    "### Added Column Month & Year to the data set"
   ]
  },
  {
   "cell_type": "code",
   "execution_count": 39,
   "metadata": {},
   "outputs": [],
   "source": [
    "# Complete Data set by country with MonthYear\n",
    "# spotify_data_complete_country[\"MonthYear\"] = (pd.DatetimeIndex(spotify_data_complete_country['Date']).year).astype(str)+\"-\"+(spotify_data_complete_country['Date'].dt.strftime('%m')).astype(str)+\"-01\"\n",
    "spotify_data_complete_country[\"MonthYear\"] = (spotify_data_complete_country['Date'].dt.strftime('%m')).astype(str)+\"-01-\"+(pd.DatetimeIndex(spotify_data_complete_country['Date']).year).astype(str)\n",
    "spotify_data_complete_country[\"MonthYear\"] = pd.to_datetime(spotify_data_complete_country[\"MonthYear\"], format=\"%m-%d-%Y\")\n",
    "\n",
    "# Complete Data set Global with MonthYear\n",
    "spotify_data_complete_global[\"MonthYear\"] = (spotify_data_complete_global['Date'].dt.strftime('%m')).astype(str)+\"-01-\"+(pd.DatetimeIndex(spotify_data_complete_global['Date']).year).astype(str)\n",
    "spotify_data_complete_global[\"MonthYear\"] = pd.to_datetime(spotify_data_complete_global[\"MonthYear\"], format=\"%m-%d-%Y\")"
   ]
  },
  {
   "cell_type": "code",
   "execution_count": 40,
   "metadata": {},
   "outputs": [
    {
     "data": {
      "text/html": [
       "<div>\n",
       "<style scoped>\n",
       "    .dataframe tbody tr th:only-of-type {\n",
       "        vertical-align: middle;\n",
       "    }\n",
       "\n",
       "    .dataframe tbody tr th {\n",
       "        vertical-align: top;\n",
       "    }\n",
       "\n",
       "    .dataframe thead th {\n",
       "        text-align: right;\n",
       "    }\n",
       "</style>\n",
       "<table border=\"1\" class=\"dataframe\">\n",
       "  <thead>\n",
       "    <tr style=\"text-align: right;\">\n",
       "      <th></th>\n",
       "      <th>Date</th>\n",
       "      <th>Track Name</th>\n",
       "      <th>Artist</th>\n",
       "      <th>Genre</th>\n",
       "      <th>Streams</th>\n",
       "      <th>Country</th>\n",
       "      <th>Position</th>\n",
       "      <th>Genres</th>\n",
       "      <th>Track URL</th>\n",
       "      <th>Image</th>\n",
       "      <th>MonthYear</th>\n",
       "    </tr>\n",
       "  </thead>\n",
       "  <tbody>\n",
       "    <tr>\n",
       "      <th>0</th>\n",
       "      <td>2018-07-31</td>\n",
       "      <td>Miljonair (feat. SBMG, Lil' Kleine, Boef &amp; Ronnie Flex)</td>\n",
       "      <td>$hirak</td>\n",
       "      <td>dutch hip hop</td>\n",
       "      <td>238729</td>\n",
       "      <td>Netherlands</td>\n",
       "      <td>1</td>\n",
       "      <td>[dutch hip hop, dutch rap pop]</td>\n",
       "      <td>https://open.spotify.com/track/77wz2VtAwxAwYOGTJrZBKT</td>\n",
       "      <td>https://i.scdn.co/image/ab6761610000e5eb7a1bbd5a8b02e5ed8cfc977d</td>\n",
       "      <td>2018-07-01</td>\n",
       "    </tr>\n",
       "    <tr>\n",
       "      <th>1</th>\n",
       "      <td>2018-08-02</td>\n",
       "      <td>Miljonair (feat. SBMG, Lil' Kleine, Boef &amp; Ronnie Flex)</td>\n",
       "      <td>$hirak</td>\n",
       "      <td>dutch hip hop</td>\n",
       "      <td>245639</td>\n",
       "      <td>Netherlands</td>\n",
       "      <td>1</td>\n",
       "      <td>[dutch hip hop, dutch rap pop]</td>\n",
       "      <td>https://open.spotify.com/track/77wz2VtAwxAwYOGTJrZBKT</td>\n",
       "      <td>https://i.scdn.co/image/ab6761610000e5eb7a1bbd5a8b02e5ed8cfc977d</td>\n",
       "      <td>2018-08-01</td>\n",
       "    </tr>\n",
       "    <tr>\n",
       "      <th>2</th>\n",
       "      <td>2017-07-23</td>\n",
       "      <td>Millionär</td>\n",
       "      <td>187 Strassenbande</td>\n",
       "      <td>german hip hop</td>\n",
       "      <td>387632</td>\n",
       "      <td>Germany</td>\n",
       "      <td>1</td>\n",
       "      <td>[german hip hop, hamburg hip hop]</td>\n",
       "      <td>https://open.spotify.com/track/6mw02h3qbWmuq2bJCRjRAe</td>\n",
       "      <td>https://i.scdn.co/image/ab6761610000e5ebd0be16c471ca57e6485267aa</td>\n",
       "      <td>2017-07-01</td>\n",
       "    </tr>\n",
       "    <tr>\n",
       "      <th>3</th>\n",
       "      <td>2018-06-29</td>\n",
       "      <td>Youngblood</td>\n",
       "      <td>5 Seconds of Summer</td>\n",
       "      <td>boy band</td>\n",
       "      <td>261795</td>\n",
       "      <td>Australia</td>\n",
       "      <td>1</td>\n",
       "      <td>[boy band, dance pop, electropop, pop, post-teen pop]</td>\n",
       "      <td>https://open.spotify.com/track/2iUXsYOEPhVqEBwsqP70rE</td>\n",
       "      <td>https://i.scdn.co/image/ab6761610000e5ebffe8513647c422e6d93ed94a</td>\n",
       "      <td>2018-06-01</td>\n",
       "    </tr>\n",
       "    <tr>\n",
       "      <th>4</th>\n",
       "      <td>2018-06-11</td>\n",
       "      <td>Youngblood</td>\n",
       "      <td>5 Seconds of Summer</td>\n",
       "      <td>boy band</td>\n",
       "      <td>276266</td>\n",
       "      <td>Australia</td>\n",
       "      <td>1</td>\n",
       "      <td>[boy band, dance pop, electropop, pop, post-teen pop]</td>\n",
       "      <td>https://open.spotify.com/track/55S2PQgSMYAhgoTCcGCDfw</td>\n",
       "      <td>https://i.scdn.co/image/ab6761610000e5ebffe8513647c422e6d93ed94a</td>\n",
       "      <td>2018-06-01</td>\n",
       "    </tr>\n",
       "  </tbody>\n",
       "</table>\n",
       "</div>"
      ],
      "text/plain": [
       "        Date                                               Track Name  \\\n",
       "0 2018-07-31  Miljonair (feat. SBMG, Lil' Kleine, Boef & Ronnie Flex)   \n",
       "1 2018-08-02  Miljonair (feat. SBMG, Lil' Kleine, Boef & Ronnie Flex)   \n",
       "2 2017-07-23                                                Millionär   \n",
       "3 2018-06-29                                               Youngblood   \n",
       "4 2018-06-11                                               Youngblood   \n",
       "\n",
       "                Artist           Genre  Streams      Country  Position  \\\n",
       "0               $hirak   dutch hip hop   238729  Netherlands         1   \n",
       "1               $hirak   dutch hip hop   245639  Netherlands         1   \n",
       "2    187 Strassenbande  german hip hop   387632      Germany         1   \n",
       "3  5 Seconds of Summer        boy band   261795    Australia         1   \n",
       "4  5 Seconds of Summer        boy band   276266    Australia         1   \n",
       "\n",
       "                                                  Genres  \\\n",
       "0                         [dutch hip hop, dutch rap pop]   \n",
       "1                         [dutch hip hop, dutch rap pop]   \n",
       "2                      [german hip hop, hamburg hip hop]   \n",
       "3  [boy band, dance pop, electropop, pop, post-teen pop]   \n",
       "4  [boy band, dance pop, electropop, pop, post-teen pop]   \n",
       "\n",
       "                                               Track URL  \\\n",
       "0  https://open.spotify.com/track/77wz2VtAwxAwYOGTJrZBKT   \n",
       "1  https://open.spotify.com/track/77wz2VtAwxAwYOGTJrZBKT   \n",
       "2  https://open.spotify.com/track/6mw02h3qbWmuq2bJCRjRAe   \n",
       "3  https://open.spotify.com/track/2iUXsYOEPhVqEBwsqP70rE   \n",
       "4  https://open.spotify.com/track/55S2PQgSMYAhgoTCcGCDfw   \n",
       "\n",
       "                                                              Image  MonthYear  \n",
       "0  https://i.scdn.co/image/ab6761610000e5eb7a1bbd5a8b02e5ed8cfc977d 2018-07-01  \n",
       "1  https://i.scdn.co/image/ab6761610000e5eb7a1bbd5a8b02e5ed8cfc977d 2018-08-01  \n",
       "2  https://i.scdn.co/image/ab6761610000e5ebd0be16c471ca57e6485267aa 2017-07-01  \n",
       "3  https://i.scdn.co/image/ab6761610000e5ebffe8513647c422e6d93ed94a 2018-06-01  \n",
       "4  https://i.scdn.co/image/ab6761610000e5ebffe8513647c422e6d93ed94a 2018-06-01  "
      ]
     },
     "execution_count": 40,
     "metadata": {},
     "output_type": "execute_result"
    }
   ],
   "source": [
    "spotify_data_complete_country.head()"
   ]
  },
  {
   "cell_type": "code",
   "execution_count": 41,
   "metadata": {},
   "outputs": [
    {
     "data": {
      "text/html": [
       "<div>\n",
       "<style scoped>\n",
       "    .dataframe tbody tr th:only-of-type {\n",
       "        vertical-align: middle;\n",
       "    }\n",
       "\n",
       "    .dataframe tbody tr th {\n",
       "        vertical-align: top;\n",
       "    }\n",
       "\n",
       "    .dataframe thead th {\n",
       "        text-align: right;\n",
       "    }\n",
       "</style>\n",
       "<table border=\"1\" class=\"dataframe\">\n",
       "  <thead>\n",
       "    <tr style=\"text-align: right;\">\n",
       "      <th></th>\n",
       "      <th>Date</th>\n",
       "      <th>Track Name</th>\n",
       "      <th>Artist</th>\n",
       "      <th>Genre</th>\n",
       "      <th>Streams</th>\n",
       "      <th>Country</th>\n",
       "      <th>Position</th>\n",
       "      <th>Genres</th>\n",
       "      <th>Track URL</th>\n",
       "      <th>Image</th>\n",
       "      <th>MonthYear</th>\n",
       "    </tr>\n",
       "  </thead>\n",
       "  <tbody>\n",
       "    <tr>\n",
       "      <th>0</th>\n",
       "      <td>2017-05-19</td>\n",
       "      <td>All Time Low</td>\n",
       "      <td>Jon Bellion</td>\n",
       "      <td>pop rap</td>\n",
       "      <td>548112</td>\n",
       "      <td>Global</td>\n",
       "      <td>164</td>\n",
       "      <td>[pop rap]</td>\n",
       "      <td>https://open.spotify.com/track/1CnPYaKxTVb4LWOtiGOm0m</td>\n",
       "      <td>https://i.scdn.co/image/ab6761610000e5ebb2acdc716b2b520ccb9aebc0</td>\n",
       "      <td>2017-05-01</td>\n",
       "    </tr>\n",
       "    <tr>\n",
       "      <th>1</th>\n",
       "      <td>2019-01-22</td>\n",
       "      <td>Sola</td>\n",
       "      <td>Manuel Turizo</td>\n",
       "      <td>colombian pop</td>\n",
       "      <td>703901</td>\n",
       "      <td>Global</td>\n",
       "      <td>163</td>\n",
       "      <td>[colombian pop, latin, reggaeton, reggaeton colombiano, trap latino]</td>\n",
       "      <td>https://open.spotify.com/track/675w3ACw5xZR3ODhUJlEVN</td>\n",
       "      <td>https://i.scdn.co/image/ab6761610000e5ebf787368e450e4a9c101a47e7</td>\n",
       "      <td>2019-01-01</td>\n",
       "    </tr>\n",
       "    <tr>\n",
       "      <th>2</th>\n",
       "      <td>2018-04-29</td>\n",
       "      <td>Paradise</td>\n",
       "      <td>George Ezra</td>\n",
       "      <td>folk-pop</td>\n",
       "      <td>601833</td>\n",
       "      <td>Global</td>\n",
       "      <td>158</td>\n",
       "      <td>[folk-pop, modern rock, neo-singer-songwriter, pop, pop rock]</td>\n",
       "      <td>https://open.spotify.com/track/38zwkK6TtTjIW9tpYBfZ3D</td>\n",
       "      <td>https://i.scdn.co/image/ab6761610000e5eb7ddc849606ca3e6343735953</td>\n",
       "      <td>2018-04-01</td>\n",
       "    </tr>\n",
       "    <tr>\n",
       "      <th>3</th>\n",
       "      <td>2017-11-27</td>\n",
       "      <td>The Race</td>\n",
       "      <td>22 Savage</td>\n",
       "      <td>baton rouge rap</td>\n",
       "      <td>497874</td>\n",
       "      <td>Global</td>\n",
       "      <td>179</td>\n",
       "      <td>[baton rouge rap]</td>\n",
       "      <td>https://open.spotify.com/track/0UioblV1x795s55Ur58c6c</td>\n",
       "      <td>https://i.scdn.co/image/ab67616d0000b273e03f31b8ea0ad3e9ada7e020</td>\n",
       "      <td>2017-11-01</td>\n",
       "    </tr>\n",
       "    <tr>\n",
       "      <th>4</th>\n",
       "      <td>2017-09-22</td>\n",
       "      <td>September</td>\n",
       "      <td>Earth, Wind &amp; Fire</td>\n",
       "      <td>disco</td>\n",
       "      <td>601577</td>\n",
       "      <td>Global</td>\n",
       "      <td>153</td>\n",
       "      <td>[disco, funk, jazz funk, motown, quiet storm, soul]</td>\n",
       "      <td>https://open.spotify.com/track/1mqlc0vEP9mU1kZgTi6LIQ</td>\n",
       "      <td>https://i.scdn.co/image/9fd0a9822140cce668ee15263e1f73730152dff0</td>\n",
       "      <td>2017-09-01</td>\n",
       "    </tr>\n",
       "  </tbody>\n",
       "</table>\n",
       "</div>"
      ],
      "text/plain": [
       "        Date    Track Name              Artist            Genre  Streams  \\\n",
       "0 2017-05-19  All Time Low         Jon Bellion          pop rap   548112   \n",
       "1 2019-01-22          Sola       Manuel Turizo    colombian pop   703901   \n",
       "2 2018-04-29      Paradise         George Ezra         folk-pop   601833   \n",
       "3 2017-11-27      The Race           22 Savage  baton rouge rap   497874   \n",
       "4 2017-09-22     September  Earth, Wind & Fire            disco   601577   \n",
       "\n",
       "  Country  Position  \\\n",
       "0  Global       164   \n",
       "1  Global       163   \n",
       "2  Global       158   \n",
       "3  Global       179   \n",
       "4  Global       153   \n",
       "\n",
       "                                                                 Genres  \\\n",
       "0                                                             [pop rap]   \n",
       "1  [colombian pop, latin, reggaeton, reggaeton colombiano, trap latino]   \n",
       "2         [folk-pop, modern rock, neo-singer-songwriter, pop, pop rock]   \n",
       "3                                                     [baton rouge rap]   \n",
       "4                   [disco, funk, jazz funk, motown, quiet storm, soul]   \n",
       "\n",
       "                                               Track URL  \\\n",
       "0  https://open.spotify.com/track/1CnPYaKxTVb4LWOtiGOm0m   \n",
       "1  https://open.spotify.com/track/675w3ACw5xZR3ODhUJlEVN   \n",
       "2  https://open.spotify.com/track/38zwkK6TtTjIW9tpYBfZ3D   \n",
       "3  https://open.spotify.com/track/0UioblV1x795s55Ur58c6c   \n",
       "4  https://open.spotify.com/track/1mqlc0vEP9mU1kZgTi6LIQ   \n",
       "\n",
       "                                                              Image  MonthYear  \n",
       "0  https://i.scdn.co/image/ab6761610000e5ebb2acdc716b2b520ccb9aebc0 2017-05-01  \n",
       "1  https://i.scdn.co/image/ab6761610000e5ebf787368e450e4a9c101a47e7 2019-01-01  \n",
       "2  https://i.scdn.co/image/ab6761610000e5eb7ddc849606ca3e6343735953 2018-04-01  \n",
       "3  https://i.scdn.co/image/ab67616d0000b273e03f31b8ea0ad3e9ada7e020 2017-11-01  \n",
       "4  https://i.scdn.co/image/9fd0a9822140cce668ee15263e1f73730152dff0 2017-09-01  "
      ]
     },
     "execution_count": 41,
     "metadata": {},
     "output_type": "execute_result"
    }
   ],
   "source": [
    "spotify_data_complete_global.head()"
   ]
  },
  {
   "cell_type": "markdown",
   "metadata": {},
   "source": [
    "## Load Countries' latitude and longitude"
   ]
  },
  {
   "cell_type": "code",
   "execution_count": 42,
   "metadata": {},
   "outputs": [],
   "source": [
    "csv_path=\"../Resources/countries.csv\"\n",
    "countries_df = pd.read_csv(csv_path)\n",
    "countries_df.columns = ['Code','Lat','Long','Country']"
   ]
  },
  {
   "cell_type": "code",
   "execution_count": 43,
   "metadata": {},
   "outputs": [
    {
     "data": {
      "text/html": [
       "<div>\n",
       "<style scoped>\n",
       "    .dataframe tbody tr th:only-of-type {\n",
       "        vertical-align: middle;\n",
       "    }\n",
       "\n",
       "    .dataframe tbody tr th {\n",
       "        vertical-align: top;\n",
       "    }\n",
       "\n",
       "    .dataframe thead th {\n",
       "        text-align: right;\n",
       "    }\n",
       "</style>\n",
       "<table border=\"1\" class=\"dataframe\">\n",
       "  <thead>\n",
       "    <tr style=\"text-align: right;\">\n",
       "      <th></th>\n",
       "      <th>Code</th>\n",
       "      <th>Lat</th>\n",
       "      <th>Long</th>\n",
       "      <th>Country</th>\n",
       "    </tr>\n",
       "  </thead>\n",
       "  <tbody>\n",
       "    <tr>\n",
       "      <th>0</th>\n",
       "      <td>AD</td>\n",
       "      <td>42.546245</td>\n",
       "      <td>1.601554</td>\n",
       "      <td>Andorra</td>\n",
       "    </tr>\n",
       "    <tr>\n",
       "      <th>1</th>\n",
       "      <td>AE</td>\n",
       "      <td>23.424076</td>\n",
       "      <td>53.847818</td>\n",
       "      <td>United Arab Emirates</td>\n",
       "    </tr>\n",
       "    <tr>\n",
       "      <th>2</th>\n",
       "      <td>AF</td>\n",
       "      <td>33.939110</td>\n",
       "      <td>67.709953</td>\n",
       "      <td>Afghanistan</td>\n",
       "    </tr>\n",
       "    <tr>\n",
       "      <th>3</th>\n",
       "      <td>AG</td>\n",
       "      <td>17.060816</td>\n",
       "      <td>-61.796428</td>\n",
       "      <td>Antigua and Barbuda</td>\n",
       "    </tr>\n",
       "    <tr>\n",
       "      <th>4</th>\n",
       "      <td>AI</td>\n",
       "      <td>18.220554</td>\n",
       "      <td>-63.068615</td>\n",
       "      <td>Anguilla</td>\n",
       "    </tr>\n",
       "  </tbody>\n",
       "</table>\n",
       "</div>"
      ],
      "text/plain": [
       "  Code        Lat       Long               Country\n",
       "0   AD  42.546245   1.601554               Andorra\n",
       "1   AE  23.424076  53.847818  United Arab Emirates\n",
       "2   AF  33.939110  67.709953           Afghanistan\n",
       "3   AG  17.060816 -61.796428   Antigua and Barbuda\n",
       "4   AI  18.220554 -63.068615              Anguilla"
      ]
     },
     "execution_count": 43,
     "metadata": {},
     "output_type": "execute_result"
    }
   ],
   "source": [
    "countries_df.head()"
   ]
  },
  {
   "cell_type": "code",
   "execution_count": 44,
   "metadata": {},
   "outputs": [],
   "source": [
    "spotify_data_complete_country = pd.merge(spotify_data_complete_country, countries_df, how=\"left\", on=\"Country\")"
   ]
  },
  {
   "cell_type": "code",
   "execution_count": 45,
   "metadata": {},
   "outputs": [
    {
     "data": {
      "text/html": [
       "<div>\n",
       "<style scoped>\n",
       "    .dataframe tbody tr th:only-of-type {\n",
       "        vertical-align: middle;\n",
       "    }\n",
       "\n",
       "    .dataframe tbody tr th {\n",
       "        vertical-align: top;\n",
       "    }\n",
       "\n",
       "    .dataframe thead th {\n",
       "        text-align: right;\n",
       "    }\n",
       "</style>\n",
       "<table border=\"1\" class=\"dataframe\">\n",
       "  <thead>\n",
       "    <tr style=\"text-align: right;\">\n",
       "      <th></th>\n",
       "      <th>Date</th>\n",
       "      <th>Track Name</th>\n",
       "      <th>Artist</th>\n",
       "      <th>Genre</th>\n",
       "      <th>Streams</th>\n",
       "      <th>Country</th>\n",
       "      <th>Position</th>\n",
       "      <th>Genres</th>\n",
       "      <th>Track URL</th>\n",
       "      <th>Image</th>\n",
       "      <th>MonthYear</th>\n",
       "      <th>Code</th>\n",
       "      <th>Lat</th>\n",
       "      <th>Long</th>\n",
       "    </tr>\n",
       "  </thead>\n",
       "  <tbody>\n",
       "    <tr>\n",
       "      <th>0</th>\n",
       "      <td>2018-07-31</td>\n",
       "      <td>Miljonair (feat. SBMG, Lil' Kleine, Boef &amp; Ronnie Flex)</td>\n",
       "      <td>$hirak</td>\n",
       "      <td>dutch hip hop</td>\n",
       "      <td>238729</td>\n",
       "      <td>Netherlands</td>\n",
       "      <td>1</td>\n",
       "      <td>[dutch hip hop, dutch rap pop]</td>\n",
       "      <td>https://open.spotify.com/track/77wz2VtAwxAwYOGTJrZBKT</td>\n",
       "      <td>https://i.scdn.co/image/ab6761610000e5eb7a1bbd5a8b02e5ed8cfc977d</td>\n",
       "      <td>2018-07-01</td>\n",
       "      <td>NL</td>\n",
       "      <td>52.132633</td>\n",
       "      <td>5.291266</td>\n",
       "    </tr>\n",
       "    <tr>\n",
       "      <th>1</th>\n",
       "      <td>2018-08-02</td>\n",
       "      <td>Miljonair (feat. SBMG, Lil' Kleine, Boef &amp; Ronnie Flex)</td>\n",
       "      <td>$hirak</td>\n",
       "      <td>dutch hip hop</td>\n",
       "      <td>245639</td>\n",
       "      <td>Netherlands</td>\n",
       "      <td>1</td>\n",
       "      <td>[dutch hip hop, dutch rap pop]</td>\n",
       "      <td>https://open.spotify.com/track/77wz2VtAwxAwYOGTJrZBKT</td>\n",
       "      <td>https://i.scdn.co/image/ab6761610000e5eb7a1bbd5a8b02e5ed8cfc977d</td>\n",
       "      <td>2018-08-01</td>\n",
       "      <td>NL</td>\n",
       "      <td>52.132633</td>\n",
       "      <td>5.291266</td>\n",
       "    </tr>\n",
       "    <tr>\n",
       "      <th>2</th>\n",
       "      <td>2017-07-23</td>\n",
       "      <td>Millionär</td>\n",
       "      <td>187 Strassenbande</td>\n",
       "      <td>german hip hop</td>\n",
       "      <td>387632</td>\n",
       "      <td>Germany</td>\n",
       "      <td>1</td>\n",
       "      <td>[german hip hop, hamburg hip hop]</td>\n",
       "      <td>https://open.spotify.com/track/6mw02h3qbWmuq2bJCRjRAe</td>\n",
       "      <td>https://i.scdn.co/image/ab6761610000e5ebd0be16c471ca57e6485267aa</td>\n",
       "      <td>2017-07-01</td>\n",
       "      <td>DE</td>\n",
       "      <td>51.165691</td>\n",
       "      <td>10.451526</td>\n",
       "    </tr>\n",
       "    <tr>\n",
       "      <th>3</th>\n",
       "      <td>2018-06-29</td>\n",
       "      <td>Youngblood</td>\n",
       "      <td>5 Seconds of Summer</td>\n",
       "      <td>boy band</td>\n",
       "      <td>261795</td>\n",
       "      <td>Australia</td>\n",
       "      <td>1</td>\n",
       "      <td>[boy band, dance pop, electropop, pop, post-teen pop]</td>\n",
       "      <td>https://open.spotify.com/track/2iUXsYOEPhVqEBwsqP70rE</td>\n",
       "      <td>https://i.scdn.co/image/ab6761610000e5ebffe8513647c422e6d93ed94a</td>\n",
       "      <td>2018-06-01</td>\n",
       "      <td>AU</td>\n",
       "      <td>-25.274398</td>\n",
       "      <td>133.775136</td>\n",
       "    </tr>\n",
       "    <tr>\n",
       "      <th>4</th>\n",
       "      <td>2018-06-11</td>\n",
       "      <td>Youngblood</td>\n",
       "      <td>5 Seconds of Summer</td>\n",
       "      <td>boy band</td>\n",
       "      <td>276266</td>\n",
       "      <td>Australia</td>\n",
       "      <td>1</td>\n",
       "      <td>[boy band, dance pop, electropop, pop, post-teen pop]</td>\n",
       "      <td>https://open.spotify.com/track/55S2PQgSMYAhgoTCcGCDfw</td>\n",
       "      <td>https://i.scdn.co/image/ab6761610000e5ebffe8513647c422e6d93ed94a</td>\n",
       "      <td>2018-06-01</td>\n",
       "      <td>AU</td>\n",
       "      <td>-25.274398</td>\n",
       "      <td>133.775136</td>\n",
       "    </tr>\n",
       "  </tbody>\n",
       "</table>\n",
       "</div>"
      ],
      "text/plain": [
       "        Date                                               Track Name  \\\n",
       "0 2018-07-31  Miljonair (feat. SBMG, Lil' Kleine, Boef & Ronnie Flex)   \n",
       "1 2018-08-02  Miljonair (feat. SBMG, Lil' Kleine, Boef & Ronnie Flex)   \n",
       "2 2017-07-23                                                Millionär   \n",
       "3 2018-06-29                                               Youngblood   \n",
       "4 2018-06-11                                               Youngblood   \n",
       "\n",
       "                Artist           Genre  Streams      Country  Position  \\\n",
       "0               $hirak   dutch hip hop   238729  Netherlands         1   \n",
       "1               $hirak   dutch hip hop   245639  Netherlands         1   \n",
       "2    187 Strassenbande  german hip hop   387632      Germany         1   \n",
       "3  5 Seconds of Summer        boy band   261795    Australia         1   \n",
       "4  5 Seconds of Summer        boy band   276266    Australia         1   \n",
       "\n",
       "                                                  Genres  \\\n",
       "0                         [dutch hip hop, dutch rap pop]   \n",
       "1                         [dutch hip hop, dutch rap pop]   \n",
       "2                      [german hip hop, hamburg hip hop]   \n",
       "3  [boy band, dance pop, electropop, pop, post-teen pop]   \n",
       "4  [boy band, dance pop, electropop, pop, post-teen pop]   \n",
       "\n",
       "                                               Track URL  \\\n",
       "0  https://open.spotify.com/track/77wz2VtAwxAwYOGTJrZBKT   \n",
       "1  https://open.spotify.com/track/77wz2VtAwxAwYOGTJrZBKT   \n",
       "2  https://open.spotify.com/track/6mw02h3qbWmuq2bJCRjRAe   \n",
       "3  https://open.spotify.com/track/2iUXsYOEPhVqEBwsqP70rE   \n",
       "4  https://open.spotify.com/track/55S2PQgSMYAhgoTCcGCDfw   \n",
       "\n",
       "                                                              Image  \\\n",
       "0  https://i.scdn.co/image/ab6761610000e5eb7a1bbd5a8b02e5ed8cfc977d   \n",
       "1  https://i.scdn.co/image/ab6761610000e5eb7a1bbd5a8b02e5ed8cfc977d   \n",
       "2  https://i.scdn.co/image/ab6761610000e5ebd0be16c471ca57e6485267aa   \n",
       "3  https://i.scdn.co/image/ab6761610000e5ebffe8513647c422e6d93ed94a   \n",
       "4  https://i.scdn.co/image/ab6761610000e5ebffe8513647c422e6d93ed94a   \n",
       "\n",
       "   MonthYear Code        Lat        Long  \n",
       "0 2018-07-01   NL  52.132633    5.291266  \n",
       "1 2018-08-01   NL  52.132633    5.291266  \n",
       "2 2017-07-01   DE  51.165691   10.451526  \n",
       "3 2018-06-01   AU -25.274398  133.775136  \n",
       "4 2018-06-01   AU -25.274398  133.775136  "
      ]
     },
     "execution_count": 45,
     "metadata": {},
     "output_type": "execute_result"
    }
   ],
   "source": [
    "spotify_data_complete_country.head()"
   ]
  },
  {
   "cell_type": "markdown",
   "metadata": {},
   "source": [
    "## Load Final Spotify Data Base to MongoDB"
   ]
  },
  {
   "cell_type": "markdown",
   "metadata": {},
   "source": [
    "### Load Top 200 by Country"
   ]
  },
  {
   "cell_type": "code",
   "execution_count": 46,
   "metadata": {},
   "outputs": [],
   "source": [
    "# spotify_data_complete_country.head()"
   ]
  },
  {
   "cell_type": "code",
   "execution_count": 47,
   "metadata": {},
   "outputs": [],
   "source": [
    "# spotify_data_complete_global.head()"
   ]
  },
  {
   "cell_type": "code",
   "execution_count": 48,
   "metadata": {},
   "outputs": [],
   "source": [
    "# Initialize PyMongo to work with MongoDBs\n",
    "conn = 'mongodb://localhost:27017'\n",
    "client = pymongo.MongoClient(conn)\n",
    "\n",
    "# Define database and collection\n",
    "db = client.Spotifydb\n",
    "collection = db.Top200byCountry\n",
    "collection.drop()\n",
    "\n",
    "\n",
    "rows=len(spotify_data_complete_country)\n",
    "data=spotify_data_complete_country\n",
    "songs_dict={}\n",
    "x=0\n",
    "\n",
    "\n",
    "for row in range(0,100000):\n",
    "        \n",
    "    songs_dict={'Date':data.iloc[row,0],\n",
    "                'MonthYear':data.iloc[row,10],\n",
    "                'MonthYearStr':data.iloc[row,11],\n",
    "                'Track_Name':data.iloc[row,1],\n",
    "                'Artist':data.iloc[row,2],\n",
    "                'Genre':data.iloc[row,3],\n",
    "                'Streams':data.iloc[row,4].astype(float),\n",
    "                'Country':data.iloc[row,5],\n",
    "                'Position':data.iloc[row,6].astype(float),\n",
    "                'Genres':data.iloc[row,7],\n",
    "                'Track_URL':data.iloc[row,8],\n",
    "                'Image':data.iloc[row,9],\n",
    "                'Code':data.iloc[row,11],\n",
    "                'Lat':data.iloc[row,12],\n",
    "                'Long':data.iloc[row,13]\n",
    "                 }\n",
    "    \n",
    "    collection.insert_one(songs_dict)"
   ]
  },
  {
   "cell_type": "markdown",
   "metadata": {},
   "source": [
    "### Load Global Top 200"
   ]
  },
  {
   "cell_type": "code",
   "execution_count": 27,
   "metadata": {},
   "outputs": [],
   "source": [
    "# Initialize PyMongo to work with MongoDBs\n",
    "conn = 'mongodb://localhost:27017'\n",
    "client = pymongo.MongoClient(conn)\n",
    "\n",
    "# Define database and collection\n",
    "db = client.Spotifydb\n",
    "collection = db.Top200Global\n",
    "collection.drop()\n",
    "\n",
    "\n",
    "rows = len(spotify_data_complete_global)\n",
    "data = spotify_data_complete_global\n",
    "songs_dict = {}\n",
    "x=0\n",
    "\n",
    "\n",
    "for row in range(0,rows):\n",
    "        \n",
    "    songs_dict={'Date':data.iloc[row,0],\n",
    "                'MonthYear':data.iloc[row,10],\n",
    "                'Track_Name':data.iloc[row,1],\n",
    "                'Artist':data.iloc[row,2],\n",
    "                'Genre':data.iloc[row,3],\n",
    "                'Streams':data.iloc[row,4].astype(float),\n",
    "                'Country':data.iloc[row,5],\n",
    "                'Position':data.iloc[row,6].astype(float),\n",
    "                'Genres':data.iloc[row,7],\n",
    "                'Track_URL':data.iloc[row,8],\n",
    "                'Image':data.iloc[row,9],\n",
    "                 }\n",
    "    \n",
    "    collection.insert_one(songs_dict)"
   ]
  },
  {
   "cell_type": "code",
   "execution_count": null,
   "metadata": {},
   "outputs": [],
   "source": []
  }
 ],
 "metadata": {
  "kernelspec": {
   "display_name": "Python [conda env:Python_01]",
   "language": "python",
   "name": "conda-env-Python_01-py"
  },
  "language_info": {
   "codemirror_mode": {
    "name": "ipython",
    "version": 3
   },
   "file_extension": ".py",
   "mimetype": "text/x-python",
   "name": "python",
   "nbconvert_exporter": "python",
   "pygments_lexer": "ipython3",
   "version": "3.6.10"
  }
 },
 "nbformat": 4,
 "nbformat_minor": 4
}
