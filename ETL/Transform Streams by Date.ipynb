{
 "cells": [
  {
   "cell_type": "markdown",
   "metadata": {},
   "source": [
    "# Extract, Transform and Load Spotify Data Set\n",
    "<hr>"
   ]
  },
  {
   "cell_type": "markdown",
   "metadata": {},
   "source": [
    "### Dependencies"
   ]
  },
  {
   "cell_type": "code",
   "execution_count": 6,
   "metadata": {},
   "outputs": [],
   "source": [
    "import pandas as pd\n",
    "import datetime as dt\n",
    "from sqlalchemy import create_engine\n",
    "import requests\n",
    "import pymongo\n",
    "import matplotlib.pyplot as plt"
   ]
  },
  {
   "cell_type": "markdown",
   "metadata": {},
   "source": [
    "### Extract Data Set"
   ]
  },
  {
   "cell_type": "code",
   "execution_count": 7,
   "metadata": {},
   "outputs": [],
   "source": [
    "path = \"../Resources/songs.json\"\n",
    "spotify_data = pd.read_json(path)"
   ]
  },
  {
   "cell_type": "code",
   "execution_count": 8,
   "metadata": {},
   "outputs": [
    {
     "data": {
      "text/html": [
       "<div>\n",
       "<style scoped>\n",
       "    .dataframe tbody tr th:only-of-type {\n",
       "        vertical-align: middle;\n",
       "    }\n",
       "\n",
       "    .dataframe tbody tr th {\n",
       "        vertical-align: top;\n",
       "    }\n",
       "\n",
       "    .dataframe thead th {\n",
       "        text-align: right;\n",
       "    }\n",
       "</style>\n",
       "<table border=\"1\" class=\"dataframe\">\n",
       "  <thead>\n",
       "    <tr style=\"text-align: right;\">\n",
       "      <th></th>\n",
       "      <th>Artist</th>\n",
       "      <th>Country</th>\n",
       "      <th>Date</th>\n",
       "      <th>Position</th>\n",
       "      <th>Streams</th>\n",
       "      <th>Track Name</th>\n",
       "      <th>Track URL</th>\n",
       "    </tr>\n",
       "  </thead>\n",
       "  <tbody>\n",
       "    <tr>\n",
       "      <th>0</th>\n",
       "      <td>$hirak</td>\n",
       "      <td>Netherlands</td>\n",
       "      <td>2018-07-31 00:00:00+00:00</td>\n",
       "      <td>1</td>\n",
       "      <td>238729</td>\n",
       "      <td>Miljonair (feat. SBMG, Lil' Kleine, Boef &amp; Ron...</td>\n",
       "      <td>https://open.spotify.com/track/77wz2VtAwxAwYOG...</td>\n",
       "    </tr>\n",
       "    <tr>\n",
       "      <th>1</th>\n",
       "      <td>$hirak</td>\n",
       "      <td>Netherlands</td>\n",
       "      <td>2018-08-02 00:00:00+00:00</td>\n",
       "      <td>1</td>\n",
       "      <td>245639</td>\n",
       "      <td>Miljonair (feat. SBMG, Lil' Kleine, Boef &amp; Ron...</td>\n",
       "      <td>https://open.spotify.com/track/77wz2VtAwxAwYOG...</td>\n",
       "    </tr>\n",
       "    <tr>\n",
       "      <th>2</th>\n",
       "      <td>187 Strassenbande</td>\n",
       "      <td>Germany</td>\n",
       "      <td>2017-07-23 00:00:00+00:00</td>\n",
       "      <td>1</td>\n",
       "      <td>387632</td>\n",
       "      <td>Millionär</td>\n",
       "      <td>https://open.spotify.com/track/6mw02h3qbWmuq2b...</td>\n",
       "    </tr>\n",
       "    <tr>\n",
       "      <th>3</th>\n",
       "      <td>5 Seconds of Summer</td>\n",
       "      <td>Australia</td>\n",
       "      <td>2018-06-29 00:00:00+00:00</td>\n",
       "      <td>1</td>\n",
       "      <td>261795</td>\n",
       "      <td>Youngblood</td>\n",
       "      <td>https://open.spotify.com/track/2iUXsYOEPhVqEBw...</td>\n",
       "    </tr>\n",
       "    <tr>\n",
       "      <th>4</th>\n",
       "      <td>5 Seconds of Summer</td>\n",
       "      <td>Australia</td>\n",
       "      <td>2018-06-11 00:00:00+00:00</td>\n",
       "      <td>1</td>\n",
       "      <td>276266</td>\n",
       "      <td>Youngblood</td>\n",
       "      <td>https://open.spotify.com/track/55S2PQgSMYAhgoT...</td>\n",
       "    </tr>\n",
       "  </tbody>\n",
       "</table>\n",
       "</div>"
      ],
      "text/plain": [
       "                Artist      Country                      Date  Position  \\\n",
       "0               $hirak  Netherlands 2018-07-31 00:00:00+00:00         1   \n",
       "1               $hirak  Netherlands 2018-08-02 00:00:00+00:00         1   \n",
       "2    187 Strassenbande      Germany 2017-07-23 00:00:00+00:00         1   \n",
       "3  5 Seconds of Summer    Australia 2018-06-29 00:00:00+00:00         1   \n",
       "4  5 Seconds of Summer    Australia 2018-06-11 00:00:00+00:00         1   \n",
       "\n",
       "   Streams                                         Track Name  \\\n",
       "0   238729  Miljonair (feat. SBMG, Lil' Kleine, Boef & Ron...   \n",
       "1   245639  Miljonair (feat. SBMG, Lil' Kleine, Boef & Ron...   \n",
       "2   387632                                          Millionär   \n",
       "3   261795                                         Youngblood   \n",
       "4   276266                                         Youngblood   \n",
       "\n",
       "                                           Track URL  \n",
       "0  https://open.spotify.com/track/77wz2VtAwxAwYOG...  \n",
       "1  https://open.spotify.com/track/77wz2VtAwxAwYOG...  \n",
       "2  https://open.spotify.com/track/6mw02h3qbWmuq2b...  \n",
       "3  https://open.spotify.com/track/2iUXsYOEPhVqEBw...  \n",
       "4  https://open.spotify.com/track/55S2PQgSMYAhgoT...  "
      ]
     },
     "execution_count": 8,
     "metadata": {},
     "output_type": "execute_result"
    }
   ],
   "source": [
    "spotify_data.head()"
   ]
  },
  {
   "cell_type": "code",
   "execution_count": null,
   "metadata": {},
   "outputs": [],
   "source": []
  },
  {
   "cell_type": "code",
   "execution_count": null,
   "metadata": {},
   "outputs": [],
   "source": [
    "# spotify_data.sort_values(by=['Date']).head(50)"
   ]
  },
  {
   "cell_type": "code",
   "execution_count": 10,
   "metadata": {},
   "outputs": [],
   "source": [
    "streams_by_date = spotify_data.groupby(\"Date\").sum().sort_values(by=['Date']).reset_index()"
   ]
  },
  {
   "cell_type": "code",
   "execution_count": 11,
   "metadata": {},
   "outputs": [
    {
     "data": {
      "text/plain": [
       "Date       909\n",
       "Streams    909\n",
       "dtype: int64"
      ]
     },
     "execution_count": 11,
     "metadata": {},
     "output_type": "execute_result"
    }
   ],
   "source": [
    "streams_by_date[\"Date\"] = streams_by_date[\"Date\"].dt.strftime(\"%m/%d/%y\")\n",
    "streams_by_date = streams_by_date[[\"Date\",\"Streams\"]]\n",
    "streams_by_date.count()"
   ]
  },
  {
   "cell_type": "code",
   "execution_count": null,
   "metadata": {
    "scrolled": true
   },
   "outputs": [],
   "source": [
    "streams_by_date.plot()"
   ]
  },
  {
   "cell_type": "code",
   "execution_count": 15,
   "metadata": {},
   "outputs": [
    {
     "data": {
      "text/html": [
       "<div>\n",
       "<style scoped>\n",
       "    .dataframe tbody tr th:only-of-type {\n",
       "        vertical-align: middle;\n",
       "    }\n",
       "\n",
       "    .dataframe tbody tr th {\n",
       "        vertical-align: top;\n",
       "    }\n",
       "\n",
       "    .dataframe thead th {\n",
       "        text-align: right;\n",
       "    }\n",
       "</style>\n",
       "<table border=\"1\" class=\"dataframe\">\n",
       "  <thead>\n",
       "    <tr style=\"text-align: right;\">\n",
       "      <th></th>\n",
       "      <th>Date</th>\n",
       "      <th>Streams</th>\n",
       "    </tr>\n",
       "  </thead>\n",
       "  <tbody>\n",
       "    <tr>\n",
       "      <th>0</th>\n",
       "      <td>01/01/17</td>\n",
       "      <td>493877</td>\n",
       "    </tr>\n",
       "    <tr>\n",
       "      <th>1</th>\n",
       "      <td>01/02/17</td>\n",
       "      <td>913949</td>\n",
       "    </tr>\n",
       "    <tr>\n",
       "      <th>2</th>\n",
       "      <td>01/03/17</td>\n",
       "      <td>6479060</td>\n",
       "    </tr>\n",
       "    <tr>\n",
       "      <th>3</th>\n",
       "      <td>01/04/17</td>\n",
       "      <td>439295</td>\n",
       "    </tr>\n",
       "    <tr>\n",
       "      <th>4</th>\n",
       "      <td>01/05/17</td>\n",
       "      <td>201210</td>\n",
       "    </tr>\n",
       "  </tbody>\n",
       "</table>\n",
       "</div>"
      ],
      "text/plain": [
       "       Date  Streams\n",
       "0  01/01/17   493877\n",
       "1  01/02/17   913949\n",
       "2  01/03/17  6479060\n",
       "3  01/04/17   439295\n",
       "4  01/05/17   201210"
      ]
     },
     "execution_count": 15,
     "metadata": {},
     "output_type": "execute_result"
    }
   ],
   "source": [
    "streams_by_date.head()\n",
    "\n"
   ]
  },
  {
   "cell_type": "code",
   "execution_count": null,
   "metadata": {},
   "outputs": [],
   "source": [
    "x_values = streams_by_date[\"Date\"]\n",
    "y_values = streams_by_date[\"Streams\"]\n",
    "\n",
    "ax = plt.gca()\n",
    "# get axes\n",
    "\n",
    "formatter = x_values.DateFormatter(\"%Y-%m-%d\")\n",
    "# format as dates\n",
    "\n",
    "ax.xaxis.set_major_formatter(formatter)\n",
    "\n",
    "locator = mdates.DayLocator()\n",
    "# set locator\n",
    "\n",
    "ax.xaxis.set_major_locator(locator)\n",
    "\n",
    "plt.plot(x_values, y_values)"
   ]
  },
  {
   "cell_type": "code",
   "execution_count": null,
   "metadata": {},
   "outputs": [],
   "source": []
  }
 ],
 "metadata": {
  "kernelspec": {
   "display_name": "Python [conda env:Python_01] *",
   "language": "python",
   "name": "conda-env-Python_01-py"
  },
  "language_info": {
   "codemirror_mode": {
    "name": "ipython",
    "version": 3
   },
   "file_extension": ".py",
   "mimetype": "text/x-python",
   "name": "python",
   "nbconvert_exporter": "python",
   "pygments_lexer": "ipython3",
   "version": "3.6.10"
  }
 },
 "nbformat": 4,
 "nbformat_minor": 4
}
