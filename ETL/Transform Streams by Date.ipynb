{
 "cells": [
  {
   "cell_type": "markdown",
   "metadata": {},
   "source": [
    "# Extract, Transform and Load Spotify Data Set\n",
    "\n",
    "<hr>\n",
    "\n",
    "## Exploration and summary tranformation"
   ]
  },
  {
   "cell_type": "markdown",
   "metadata": {},
   "source": [
    "### Dependencies"
   ]
  },
  {
   "cell_type": "code",
   "execution_count": 1,
   "metadata": {},
   "outputs": [],
   "source": [
    "import pandas as pd\n",
    "import datetime as dt\n",
    "from sqlalchemy import create_engine\n",
    "import requests\n",
    "import pymongo\n",
    "import matplotlib.pyplot as plt"
   ]
  },
  {
   "cell_type": "markdown",
   "metadata": {},
   "source": [
    "### Extract Data Set"
   ]
  },
  {
   "cell_type": "code",
   "execution_count": 2,
   "metadata": {},
   "outputs": [],
   "source": [
    "path = \"../Resources/songs.json\"\n",
    "spotify_data = pd.read_json(path)\n",
    "\n",
    "# path = \"../Resources/Spotify_Daily_Streaming.csv\"\n",
    "# spotify_data = pd.read_csv(path)\n",
    "\n",
    "# spotify_data.count()"
   ]
  },
  {
   "cell_type": "code",
   "execution_count": 3,
   "metadata": {},
   "outputs": [
    {
     "data": {
      "text/plain": [
       "array(['Netherlands', 'Germany', 'Australia', 'New Zealand', 'Panama',\n",
       "       'Chile', 'Taiwan', 'South Africa', 'Japan', 'Spain', 'Argentina',\n",
       "       'Paraguay', 'Turkey', 'Italy', 'Brazil', 'Iceland', 'Norway',\n",
       "       'Switzerland', 'United Kingdom', 'Austria', 'Ireland', 'Sweden',\n",
       "       'Hungary', 'Czech Republic', 'Poland', 'Slovakia', 'France',\n",
       "       'Thailand', 'Singapore', 'Viet Name', 'Indonesia', 'Malaysia',\n",
       "       'Philippines', 'Hong Kong', 'Dominican Republic', 'Peru',\n",
       "       'Bolivia', 'Portugal', 'Denmark', 'Costa Rica', 'El Salvador',\n",
       "       'Global', 'Greece', 'Guatemala', 'Israel', 'Mexico', 'Romania',\n",
       "       'United States', 'Canada', 'Colombia', 'Ecuador', 'Estonia',\n",
       "       'Latvia', 'Lithuania', 'Malta', 'Nicaragua', 'Honduras',\n",
       "       'Bulgaria', 'Luxembourg', 'Uruguay', 'Finland', 'Belgium', 'India'],\n",
       "      dtype=object)"
      ]
     },
     "execution_count": 3,
     "metadata": {},
     "output_type": "execute_result"
    }
   ],
   "source": [
    "spotify_data[\"Country\"].unique()"
   ]
  },
  {
   "cell_type": "markdown",
   "metadata": {},
   "source": [
    "### Separate Global and Country Data"
   ]
  },
  {
   "cell_type": "code",
   "execution_count": 11,
   "metadata": {},
   "outputs": [],
   "source": [
    "spotify_data_global = spotify_data[spotify_data[\"Country\"]==\"Global\"] #Global Data Set\n",
    "spotify_data = spotify_data[spotify_data[\"Country\"]!=\"Global\"] #Country Data Set"
   ]
  },
  {
   "cell_type": "markdown",
   "metadata": {},
   "source": [
    "<hr>\n",
    "\n",
    "### Summary Streams by Month & Year"
   ]
  },
  {
   "cell_type": "code",
   "execution_count": 6,
   "metadata": {},
   "outputs": [],
   "source": [
    "streams_by_date = spotify_data.groupby(\"Date\").sum().sort_values(by=['Date']).reset_index()\n",
    "streams_by_date[\"Date\"] = streams_by_date[\"Date\"].dt.strftime(\"%m/%d/%Y\")\n",
    "streams_by_date = streams_by_date[[\"Date\",\"Streams\"]]"
   ]
  },
  {
   "cell_type": "code",
   "execution_count": 7,
   "metadata": {},
   "outputs": [],
   "source": [
    "streams_by_date[\"Date\"] = pd.to_datetime(streams_by_date[\"Date\"], format=\"%m/%d/%Y\")"
   ]
  },
  {
   "cell_type": "code",
   "execution_count": 19,
   "metadata": {},
   "outputs": [],
   "source": [
    "streams_by_date[\"MonthYear\"] = (pd.DatetimeIndex(streams_by_date['Date']).year).astype(str)+\"-\"+(streams_by_date['Date'].dt.strftime('%m')).astype(str)+\"-01\"\n",
    "streams_by_monthYear = streams_by_date.groupby(\"MonthYear\").sum().reset_index()\n",
    "# streams_by_monthYear.head()"
   ]
  },
  {
   "cell_type": "markdown",
   "metadata": {},
   "source": [
    "<hr>\n",
    "\n",
    "### Summary Streams by Artist"
   ]
  },
  {
   "cell_type": "code",
   "execution_count": 18,
   "metadata": {},
   "outputs": [],
   "source": [
    "streams_by_artist = spotify_data.groupby(\"Artist\").sum().sort_values(by=['Streams'],ascending=False).reset_index()\n",
    "streams_by_artist = streams_by_artist[[\"Artist\",\"Streams\"]]\n",
    "# streams_by_artist.head()"
   ]
  },
  {
   "cell_type": "markdown",
   "metadata": {},
   "source": [
    "<hr>\n",
    "\n",
    "### Summary Streams by Song"
   ]
  },
  {
   "cell_type": "code",
   "execution_count": 68,
   "metadata": {},
   "outputs": [],
   "source": [
    "streams_by_track = spotify_data.groupby(\"Track URL\").sum().sort_values(by=['Streams'],ascending=False).reset_index()\n",
    "streams_by_track\n",
    "\n",
    "streams_by_track = pd.merge(streams_by_track,spotify_data, on=\"Track URL\", how='left') \\\n",
    "    .drop_duplicates(subset=['Track URL'], keep='first')\n",
    "\n",
    "streams_by_track = streams_by_track[[\"Track Name\",\"Artist\",\"Streams_x\",\"Track URL\"]]\n",
    "streams_by_track.rename(columns={\"Streams_x\":\"Streams\"},inplace=True)\n",
    "# streams_by_track.head()"
   ]
  },
  {
   "cell_type": "markdown",
   "metadata": {},
   "source": [
    "# Loading Data -  Mongodb connection"
   ]
  },
  {
   "cell_type": "markdown",
   "metadata": {},
   "source": [
    "<hr>\n",
    "\n",
    "### Load Streams by Month & Year"
   ]
  },
  {
   "cell_type": "code",
   "execution_count": 22,
   "metadata": {},
   "outputs": [],
   "source": [
    "# Initialize PyMongo to work with MongoDBs\n",
    "conn = 'mongodb://localhost:27017'\n",
    "client = pymongo.MongoClient(conn)\n",
    "\n",
    "# Define database and collection\n",
    "db = client.Spotifydb\n",
    "collection = db.StreamsByDate\n",
    "\n",
    "collection.drop()\n",
    "\n",
    "rows=len(streams_by_monthYear)\n",
    "songs_dict={}\n",
    "x=0\n",
    "for row in range(0,rows):\n",
    "\n",
    "    songs_dict={'MonthYear':streams_by_monthYear.iloc[row,0],\n",
    "                'Streams':(streams_by_monthYear.iloc[row,1]).astype(\"str\"),\n",
    "                 }\n",
    "   \n",
    "    x += 1\n",
    "    collection.insert_one(songs_dict)"
   ]
  },
  {
   "cell_type": "markdown",
   "metadata": {},
   "source": [
    "<hr>\n",
    "\n",
    "### Load Streams by Artist"
   ]
  },
  {
   "cell_type": "code",
   "execution_count": 23,
   "metadata": {},
   "outputs": [],
   "source": [
    "# Initialize PyMongo to work with MongoDBs\n",
    "conn = 'mongodb://localhost:27017'\n",
    "client = pymongo.MongoClient(conn)\n",
    "\n",
    "# Define database and collection\n",
    "db = client.Spotifydb\n",
    "collection = db.StreamsByArtist\n",
    "\n",
    "collection.drop()\n",
    "\n",
    "rows=len(streams_by_artist)\n",
    "songs_dict={}\n",
    "x=0\n",
    "for row in range(0,rows):\n",
    "\n",
    "    songs_dict={'Artist':streams_by_artist.iloc[row,0],\n",
    "                'Streams':(streams_by_artist.iloc[row,1]).astype(\"str\"),\n",
    "                 }\n",
    "   \n",
    "    x += 1\n",
    "    collection.insert_one(songs_dict)"
   ]
  },
  {
   "cell_type": "markdown",
   "metadata": {},
   "source": [
    "### Load Streams by Track"
   ]
  },
  {
   "cell_type": "code",
   "execution_count": 69,
   "metadata": {},
   "outputs": [],
   "source": [
    "# Initialize PyMongo to work with MongoDBs\n",
    "conn = 'mongodb://localhost:27017'\n",
    "client = pymongo.MongoClient(conn)\n",
    "\n",
    "# Define database and collection\n",
    "db = client.Spotifydb\n",
    "collection = db.StreamsByTrack\n",
    "\n",
    "collection.drop()\n",
    "\n",
    "rows=len(streams_by_track)\n",
    "songs_dict={}\n",
    "x=0\n",
    "for row in range(0,rows):\n",
    "\n",
    "    songs_dict={'Track':streams_by_track.iloc[row,0],\n",
    "                'Artist':(streams_by_track.iloc[row,1]),\n",
    "                'Streams':(streams_by_track.iloc[row,2]).astype(\"str\"),\n",
    "                'Track URL':(streams_by_track.iloc[row,3])\n",
    "                 }\n",
    "   \n",
    "    x += 1\n",
    "    collection.insert_one(songs_dict)"
   ]
  },
  {
   "cell_type": "markdown",
   "metadata": {},
   "source": [
    "### Filter Data"
   ]
  },
  {
   "cell_type": "code",
   "execution_count": null,
   "metadata": {},
   "outputs": [],
   "source": [
    "# filter1= spotify_data['Date'] == \"2019-01-02 00:00:00+00:00\"\n",
    "filter1= spotify_data['Date'] == \"2/5/2019\"\n",
    "filter2= spotify_data['Track Name'] == \"Saturday Nights\"\n",
    "\n",
    "spotify_data.where(filter1&filter2, inplace = True)\n",
    "spotify_data=spotify_data.dropna()\n",
    "\n",
    "spotify_data.to_csv(\"Global.csv\")"
   ]
  }
 ],
 "metadata": {
  "kernelspec": {
   "display_name": "Python 3",
   "language": "python",
   "name": "python3"
  },
  "language_info": {
   "codemirror_mode": {
    "name": "ipython",
    "version": 3
   },
   "file_extension": ".py",
   "mimetype": "text/x-python",
   "name": "python",
   "nbconvert_exporter": "python",
   "pygments_lexer": "ipython3",
   "version": "3.8.5"
  }
 },
 "nbformat": 4,
 "nbformat_minor": 4
}
