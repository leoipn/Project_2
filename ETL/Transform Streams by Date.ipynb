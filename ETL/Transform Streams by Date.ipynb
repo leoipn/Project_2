{
 "cells": [
  {
   "cell_type": "markdown",
   "metadata": {},
   "source": [
    "# Extract, Transform and Load Spotify Data Set\n",
    "<hr>"
   ]
  },
  {
   "cell_type": "markdown",
   "metadata": {},
   "source": [
    "### Dependencies"
   ]
  },
  {
   "cell_type": "code",
   "execution_count": 54,
   "metadata": {},
   "outputs": [],
   "source": [
    "import pandas as pd\n",
    "import datetime as dt\n",
    "from sqlalchemy import create_engine\n",
    "import requests\n",
    "import pymongo\n",
    "import matplotlib.pyplot as plt"
   ]
  },
  {
   "cell_type": "markdown",
   "metadata": {},
   "source": [
    "### Extract Data Set"
   ]
  },
  {
   "cell_type": "code",
   "execution_count": 39,
   "metadata": {},
   "outputs": [],
   "source": [
    "path = \"../Resources/songs.json\"\n",
    "spotify_data = pd.read_json(path)"
   ]
  },
  {
   "cell_type": "code",
   "execution_count": 40,
   "metadata": {},
   "outputs": [
    {
     "data": {
      "text/html": [
       "<div>\n",
       "<style scoped>\n",
       "    .dataframe tbody tr th:only-of-type {\n",
       "        vertical-align: middle;\n",
       "    }\n",
       "\n",
       "    .dataframe tbody tr th {\n",
       "        vertical-align: top;\n",
       "    }\n",
       "\n",
       "    .dataframe thead th {\n",
       "        text-align: right;\n",
       "    }\n",
       "</style>\n",
       "<table border=\"1\" class=\"dataframe\">\n",
       "  <thead>\n",
       "    <tr style=\"text-align: right;\">\n",
       "      <th></th>\n",
       "      <th>Artist</th>\n",
       "      <th>Country</th>\n",
       "      <th>Date</th>\n",
       "      <th>Position</th>\n",
       "      <th>Streams</th>\n",
       "      <th>Track Name</th>\n",
       "      <th>Track URL</th>\n",
       "    </tr>\n",
       "  </thead>\n",
       "  <tbody>\n",
       "    <tr>\n",
       "      <th>0</th>\n",
       "      <td>$hirak</td>\n",
       "      <td>Netherlands</td>\n",
       "      <td>2018-07-31 00:00:00+00:00</td>\n",
       "      <td>1</td>\n",
       "      <td>238729</td>\n",
       "      <td>Miljonair (feat. SBMG, Lil' Kleine, Boef &amp; Ron...</td>\n",
       "      <td>https://open.spotify.com/track/77wz2VtAwxAwYOG...</td>\n",
       "    </tr>\n",
       "    <tr>\n",
       "      <th>1</th>\n",
       "      <td>$hirak</td>\n",
       "      <td>Netherlands</td>\n",
       "      <td>2018-08-02 00:00:00+00:00</td>\n",
       "      <td>1</td>\n",
       "      <td>245639</td>\n",
       "      <td>Miljonair (feat. SBMG, Lil' Kleine, Boef &amp; Ron...</td>\n",
       "      <td>https://open.spotify.com/track/77wz2VtAwxAwYOG...</td>\n",
       "    </tr>\n",
       "    <tr>\n",
       "      <th>2</th>\n",
       "      <td>187 Strassenbande</td>\n",
       "      <td>Germany</td>\n",
       "      <td>2017-07-23 00:00:00+00:00</td>\n",
       "      <td>1</td>\n",
       "      <td>387632</td>\n",
       "      <td>Millionär</td>\n",
       "      <td>https://open.spotify.com/track/6mw02h3qbWmuq2b...</td>\n",
       "    </tr>\n",
       "    <tr>\n",
       "      <th>3</th>\n",
       "      <td>5 Seconds of Summer</td>\n",
       "      <td>Australia</td>\n",
       "      <td>2018-06-29 00:00:00+00:00</td>\n",
       "      <td>1</td>\n",
       "      <td>261795</td>\n",
       "      <td>Youngblood</td>\n",
       "      <td>https://open.spotify.com/track/2iUXsYOEPhVqEBw...</td>\n",
       "    </tr>\n",
       "    <tr>\n",
       "      <th>4</th>\n",
       "      <td>5 Seconds of Summer</td>\n",
       "      <td>Australia</td>\n",
       "      <td>2018-06-11 00:00:00+00:00</td>\n",
       "      <td>1</td>\n",
       "      <td>276266</td>\n",
       "      <td>Youngblood</td>\n",
       "      <td>https://open.spotify.com/track/55S2PQgSMYAhgoT...</td>\n",
       "    </tr>\n",
       "  </tbody>\n",
       "</table>\n",
       "</div>"
      ],
      "text/plain": [
       "                Artist      Country                      Date  Position  \\\n",
       "0               $hirak  Netherlands 2018-07-31 00:00:00+00:00         1   \n",
       "1               $hirak  Netherlands 2018-08-02 00:00:00+00:00         1   \n",
       "2    187 Strassenbande      Germany 2017-07-23 00:00:00+00:00         1   \n",
       "3  5 Seconds of Summer    Australia 2018-06-29 00:00:00+00:00         1   \n",
       "4  5 Seconds of Summer    Australia 2018-06-11 00:00:00+00:00         1   \n",
       "\n",
       "   Streams                                         Track Name  \\\n",
       "0   238729  Miljonair (feat. SBMG, Lil' Kleine, Boef & Ron...   \n",
       "1   245639  Miljonair (feat. SBMG, Lil' Kleine, Boef & Ron...   \n",
       "2   387632                                          Millionär   \n",
       "3   261795                                         Youngblood   \n",
       "4   276266                                         Youngblood   \n",
       "\n",
       "                                           Track URL  \n",
       "0  https://open.spotify.com/track/77wz2VtAwxAwYOG...  \n",
       "1  https://open.spotify.com/track/77wz2VtAwxAwYOG...  \n",
       "2  https://open.spotify.com/track/6mw02h3qbWmuq2b...  \n",
       "3  https://open.spotify.com/track/2iUXsYOEPhVqEBw...  \n",
       "4  https://open.spotify.com/track/55S2PQgSMYAhgoT...  "
      ]
     },
     "execution_count": 40,
     "metadata": {},
     "output_type": "execute_result"
    }
   ],
   "source": [
    "spotify_data.head()"
   ]
  },
  {
   "cell_type": "code",
   "execution_count": null,
   "metadata": {},
   "outputs": [],
   "source": []
  },
  {
   "cell_type": "code",
   "execution_count": 41,
   "metadata": {},
   "outputs": [],
   "source": [
    "# spotify_data.sort_values(by=['Date']).head(50)"
   ]
  },
  {
   "cell_type": "code",
   "execution_count": 58,
   "metadata": {},
   "outputs": [
    {
     "data": {
      "text/plain": [
       "Date       909\n",
       "Streams    909\n",
       "dtype: int64"
      ]
     },
     "execution_count": 58,
     "metadata": {},
     "output_type": "execute_result"
    }
   ],
   "source": [
    "streams_by_date = spotify_data.groupby(\"Date\").sum(\"Streams\").sort_values(by=['Date']).reset_index()\n",
    "streams_by_date[\"Date\"] = streams_by_date[\"Date\"].dt.strftime(\"%m/%d/%y\")\n",
    "streams_by_date = streams_by_date[[\"Date\",\"Streams\"]]\n",
    "streams_by_date.count()"
   ]
  },
  {
   "cell_type": "code",
   "execution_count": 48,
   "metadata": {
    "scrolled": true
   },
   "outputs": [
    {
     "data": {
      "text/plain": [
       "<AxesSubplot:>"
      ]
     },
     "execution_count": 48,
     "metadata": {},
     "output_type": "execute_result"
    },
    {
     "data": {
      "image/png": "[encoded data removed]",
      "text/plain": [
       "<Figure size 432x288 with 1 Axes>"
      ]
     },
     "metadata": {
      "needs_background": "light"
     },
     "output_type": "display_data"
    }
   ],
   "source": [
    "streams_by_date.plot()"
   ]
  },
  {
   "cell_type": "code",
   "execution_count": 59,
   "metadata": {},
   "outputs": [
    {
     "ename": "AttributeError",
     "evalue": "'Series' object has no attribute 'DateFormatter'",
     "output_type": "error",
     "traceback": [
      "\u001b[1;31m------------------------------------------------------------\u001b[0m",
      "\u001b[1;31mAttributeError\u001b[0m             Traceback (most recent call last)",
      "\u001b[1;32m<ipython-input-59-4f4de6707ffc>\u001b[0m in \u001b[0;36m<module>\u001b[1;34m\u001b[0m\n\u001b[0;32m      5\u001b[0m \u001b[1;31m# get axes\u001b[0m\u001b[1;33m\u001b[0m\u001b[1;33m\u001b[0m\u001b[1;33m\u001b[0m\u001b[0m\n\u001b[0;32m      6\u001b[0m \u001b[1;33m\u001b[0m\u001b[0m\n\u001b[1;32m----> 7\u001b[1;33m \u001b[0mformatter\u001b[0m \u001b[1;33m=\u001b[0m \u001b[0mx_values\u001b[0m\u001b[1;33m.\u001b[0m\u001b[0mDateFormatter\u001b[0m\u001b[1;33m(\u001b[0m\u001b[1;34m\"%Y-%m-%d\"\u001b[0m\u001b[1;33m)\u001b[0m\u001b[1;33m\u001b[0m\u001b[1;33m\u001b[0m\u001b[0m\n\u001b[0m\u001b[0;32m      8\u001b[0m \u001b[1;31m# format as dates\u001b[0m\u001b[1;33m\u001b[0m\u001b[1;33m\u001b[0m\u001b[1;33m\u001b[0m\u001b[0m\n\u001b[0;32m      9\u001b[0m \u001b[1;33m\u001b[0m\u001b[0m\n",
      "\u001b[1;32m~\\anaconda3\\lib\\site-packages\\pandas\\core\\generic.py\u001b[0m in \u001b[0;36m__getattr__\u001b[1;34m(self, name)\u001b[0m\n\u001b[0;32m   5137\u001b[0m             \u001b[1;32mif\u001b[0m \u001b[0mself\u001b[0m\u001b[1;33m.\u001b[0m\u001b[0m_info_axis\u001b[0m\u001b[1;33m.\u001b[0m\u001b[0m_can_hold_identifiers_and_holds_name\u001b[0m\u001b[1;33m(\u001b[0m\u001b[0mname\u001b[0m\u001b[1;33m)\u001b[0m\u001b[1;33m:\u001b[0m\u001b[1;33m\u001b[0m\u001b[1;33m\u001b[0m\u001b[0m\n\u001b[0;32m   5138\u001b[0m                 \u001b[1;32mreturn\u001b[0m \u001b[0mself\u001b[0m\u001b[1;33m[\u001b[0m\u001b[0mname\u001b[0m\u001b[1;33m]\u001b[0m\u001b[1;33m\u001b[0m\u001b[1;33m\u001b[0m\u001b[0m\n\u001b[1;32m-> 5139\u001b[1;33m             \u001b[1;32mreturn\u001b[0m \u001b[0mobject\u001b[0m\u001b[1;33m.\u001b[0m\u001b[0m__getattribute__\u001b[0m\u001b[1;33m(\u001b[0m\u001b[0mself\u001b[0m\u001b[1;33m,\u001b[0m \u001b[0mname\u001b[0m\u001b[1;33m)\u001b[0m\u001b[1;33m\u001b[0m\u001b[1;33m\u001b[0m\u001b[0m\n\u001b[0m\u001b[0;32m   5140\u001b[0m \u001b[1;33m\u001b[0m\u001b[0m\n\u001b[0;32m   5141\u001b[0m     \u001b[1;32mdef\u001b[0m \u001b[0m__setattr__\u001b[0m\u001b[1;33m(\u001b[0m\u001b[0mself\u001b[0m\u001b[1;33m,\u001b[0m \u001b[0mname\u001b[0m\u001b[1;33m:\u001b[0m \u001b[0mstr\u001b[0m\u001b[1;33m,\u001b[0m \u001b[0mvalue\u001b[0m\u001b[1;33m)\u001b[0m \u001b[1;33m->\u001b[0m \u001b[1;32mNone\u001b[0m\u001b[1;33m:\u001b[0m\u001b[1;33m\u001b[0m\u001b[1;33m\u001b[0m\u001b[0m\n",
      "\u001b[1;31mAttributeError\u001b[0m: 'Series' object has no attribute 'DateFormatter'"
     ]
    },
    {
     "data": {
      "image/png": "[encoded data removed]",
      "text/plain": [
       "<Figure size 432x288 with 1 Axes>"
      ]
     },
     "metadata": {
      "needs_background": "light"
     },
     "output_type": "display_data"
    }
   ],
   "source": [
    "x_values = streams_by_date[\"Date\"]\n",
    "y_values = streams_by_date[\"Streams\"]\n",
    "\n",
    "ax = plt.gca()\n",
    "# get axes\n",
    "\n",
    "formatter = x_values.DateFormatter(\"%Y-%m-%d\")\n",
    "# format as dates\n",
    "\n",
    "ax.xaxis.set_major_formatter(formatter)\n",
    "\n",
    "locator = mdates.DayLocator()\n",
    "# set locator\n",
    "\n",
    "ax.xaxis.set_major_locator(locator)\n",
    "\n",
    "plt.plot(x_values, y_values)"
   ]
  },
  {
   "cell_type": "code",
   "execution_count": null,
   "metadata": {},
   "outputs": [],
   "source": []
  }
 ],
 "metadata": {
  "kernelspec": {
   "display_name": "Python 3",
   "language": "python",
   "name": "python3"
  },
  "language_info": {
   "codemirror_mode": {
    "name": "ipython",
    "version": 3
   },
   "file_extension": ".py",
   "mimetype": "text/x-python",
   "name": "python",
   "nbconvert_exporter": "python",
   "pygments_lexer": "ipython3",
   "version": "3.8.5"
  }
 },
 "nbformat": 4,
 "nbformat_minor": 4
}
