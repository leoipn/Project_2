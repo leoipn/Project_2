{
 "cells": [
  {
   "cell_type": "code",
   "execution_count": 1,
   "metadata": {},
   "outputs": [],
   "source": [
    "# https://developer.spotify.com/console/get-audio-features-several-tracks/"
   ]
  },
  {
   "cell_type": "code",
   "execution_count": 2,
   "metadata": {},
   "outputs": [],
   "source": [
    "import pandas as pd\n",
    "import datetime as dt\n",
    "from sqlalchemy import create_engine\n",
    "import requests\n",
    "import pymongo\n",
    "import json\n",
    "\n",
    "# pd.set_option('display.max_rows', None)\n",
    "#pd.set_option('display.max_columns', None)\n",
    "pd.set_option('display.width', None)\n",
    "pd.set_option('display.max_colwidth', None)"
   ]
  },
  {
   "cell_type": "code",
   "execution_count": 3,
   "metadata": {},
   "outputs": [],
   "source": [
    "# path = \"../Resources/Charts CSV/regional-global-daily-latest.csv\"\n",
    "# spotify_data_global = pd.read_csv(path)\n",
    "# spotify_data_global.head()"
   ]
  },
  {
   "cell_type": "code",
   "execution_count": 4,
   "metadata": {},
   "outputs": [],
   "source": [
    "# spotify_data_global.to_csv(\"clean_global.csv\", header=False, index=False)\n"
   ]
  },
  {
   "cell_type": "code",
   "execution_count": 6,
   "metadata": {},
   "outputs": [
    {
     "data": {
      "text/html": [
       "<div>\n",
       "<style scoped>\n",
       "    .dataframe tbody tr th:only-of-type {\n",
       "        vertical-align: middle;\n",
       "    }\n",
       "\n",
       "    .dataframe tbody tr th {\n",
       "        vertical-align: top;\n",
       "    }\n",
       "\n",
       "    .dataframe thead th {\n",
       "        text-align: right;\n",
       "    }\n",
       "</style>\n",
       "<table border=\"1\" class=\"dataframe\">\n",
       "  <thead>\n",
       "    <tr style=\"text-align: right;\">\n",
       "      <th></th>\n",
       "      <th>Position</th>\n",
       "      <th>Track Name</th>\n",
       "      <th>Artist</th>\n",
       "      <th>Streams</th>\n",
       "      <th>URL</th>\n",
       "    </tr>\n",
       "  </thead>\n",
       "  <tbody>\n",
       "    <tr>\n",
       "      <th>0</th>\n",
       "      <td>1</td>\n",
       "      <td>Stay (with Justin Bieber)</td>\n",
       "      <td>The Kid LAROI</td>\n",
       "      <td>1863631</td>\n",
       "      <td>https://open.spotify.com/track/5HCyWlXZPP0y6Gqq8TgA20</td>\n",
       "    </tr>\n",
       "    <tr>\n",
       "      <th>1</th>\n",
       "      <td>2</td>\n",
       "      <td>good 4 u</td>\n",
       "      <td>Olivia Rodrigo</td>\n",
       "      <td>1619876</td>\n",
       "      <td>https://open.spotify.com/track/4ZtFanR9U6ndgddUvNcjcG</td>\n",
       "    </tr>\n",
       "    <tr>\n",
       "      <th>2</th>\n",
       "      <td>3</td>\n",
       "      <td>Kiss Me More (feat. SZA)</td>\n",
       "      <td>Doja Cat</td>\n",
       "      <td>1154660</td>\n",
       "      <td>https://open.spotify.com/track/3DarAbFujv6eYNliUTyqtz</td>\n",
       "    </tr>\n",
       "    <tr>\n",
       "      <th>3</th>\n",
       "      <td>4</td>\n",
       "      <td>Ain't Shit</td>\n",
       "      <td>Doja Cat</td>\n",
       "      <td>997997</td>\n",
       "      <td>https://open.spotify.com/track/5lAnYvAIkSDNXqfo7DyFUm</td>\n",
       "    </tr>\n",
       "    <tr>\n",
       "      <th>4</th>\n",
       "      <td>5</td>\n",
       "      <td>Beggin'</td>\n",
       "      <td>Måneskin</td>\n",
       "      <td>980955</td>\n",
       "      <td>https://open.spotify.com/track/3Wrjm47oTz2sjIgck11l5e</td>\n",
       "    </tr>\n",
       "  </tbody>\n",
       "</table>\n",
       "</div>"
      ],
      "text/plain": [
       "   Position                 Track Name          Artist  Streams  \\\n",
       "0         1  Stay (with Justin Bieber)   The Kid LAROI  1863631   \n",
       "1         2                   good 4 u  Olivia Rodrigo  1619876   \n",
       "2         3   Kiss Me More (feat. SZA)        Doja Cat  1154660   \n",
       "3         4                 Ain't Shit        Doja Cat   997997   \n",
       "4         5                    Beggin'        Måneskin   980955   \n",
       "\n",
       "                                                     URL  \n",
       "0  https://open.spotify.com/track/5HCyWlXZPP0y6Gqq8TgA20  \n",
       "1  https://open.spotify.com/track/4ZtFanR9U6ndgddUvNcjcG  \n",
       "2  https://open.spotify.com/track/3DarAbFujv6eYNliUTyqtz  \n",
       "3  https://open.spotify.com/track/5lAnYvAIkSDNXqfo7DyFUm  \n",
       "4  https://open.spotify.com/track/3Wrjm47oTz2sjIgck11l5e  "
      ]
     },
     "execution_count": 6,
     "metadata": {},
     "output_type": "execute_result"
    }
   ],
   "source": [
    "path_clean = \"../Resources/clean_global.csv\"\n",
    "spotify_data_global_clean = pd.read_csv(path_clean)\n",
    "spotify_data_global_clean.head()"
   ]
  },
  {
   "cell_type": "code",
   "execution_count": 7,
   "metadata": {},
   "outputs": [
    {
     "data": {
      "text/html": [
       "<div>\n",
       "<style scoped>\n",
       "    .dataframe tbody tr th:only-of-type {\n",
       "        vertical-align: middle;\n",
       "    }\n",
       "\n",
       "    .dataframe tbody tr th {\n",
       "        vertical-align: top;\n",
       "    }\n",
       "\n",
       "    .dataframe thead th {\n",
       "        text-align: right;\n",
       "    }\n",
       "</style>\n",
       "<table border=\"1\" class=\"dataframe\">\n",
       "  <thead>\n",
       "    <tr style=\"text-align: right;\">\n",
       "      <th></th>\n",
       "      <th>Position</th>\n",
       "      <th>Track Name</th>\n",
       "      <th>Artist</th>\n",
       "      <th>Streams</th>\n",
       "      <th>URL</th>\n",
       "      <th>ID</th>\n",
       "    </tr>\n",
       "  </thead>\n",
       "  <tbody>\n",
       "    <tr>\n",
       "      <th>0</th>\n",
       "      <td>1</td>\n",
       "      <td>Stay (with Justin Bieber)</td>\n",
       "      <td>The Kid LAROI</td>\n",
       "      <td>1863631</td>\n",
       "      <td>https://open.spotify.com/track/5HCyWlXZPP0y6Gqq8TgA20</td>\n",
       "      <td>5HCyWlXZPP0y6Gqq8TgA20</td>\n",
       "    </tr>\n",
       "    <tr>\n",
       "      <th>1</th>\n",
       "      <td>2</td>\n",
       "      <td>good 4 u</td>\n",
       "      <td>Olivia Rodrigo</td>\n",
       "      <td>1619876</td>\n",
       "      <td>https://open.spotify.com/track/4ZtFanR9U6ndgddUvNcjcG</td>\n",
       "      <td>4ZtFanR9U6ndgddUvNcjcG</td>\n",
       "    </tr>\n",
       "    <tr>\n",
       "      <th>2</th>\n",
       "      <td>3</td>\n",
       "      <td>Kiss Me More (feat. SZA)</td>\n",
       "      <td>Doja Cat</td>\n",
       "      <td>1154660</td>\n",
       "      <td>https://open.spotify.com/track/3DarAbFujv6eYNliUTyqtz</td>\n",
       "      <td>3DarAbFujv6eYNliUTyqtz</td>\n",
       "    </tr>\n",
       "    <tr>\n",
       "      <th>3</th>\n",
       "      <td>4</td>\n",
       "      <td>Ain't Shit</td>\n",
       "      <td>Doja Cat</td>\n",
       "      <td>997997</td>\n",
       "      <td>https://open.spotify.com/track/5lAnYvAIkSDNXqfo7DyFUm</td>\n",
       "      <td>5lAnYvAIkSDNXqfo7DyFUm</td>\n",
       "    </tr>\n",
       "    <tr>\n",
       "      <th>4</th>\n",
       "      <td>5</td>\n",
       "      <td>Beggin'</td>\n",
       "      <td>Måneskin</td>\n",
       "      <td>980955</td>\n",
       "      <td>https://open.spotify.com/track/3Wrjm47oTz2sjIgck11l5e</td>\n",
       "      <td>3Wrjm47oTz2sjIgck11l5e</td>\n",
       "    </tr>\n",
       "  </tbody>\n",
       "</table>\n",
       "</div>"
      ],
      "text/plain": [
       "   Position                 Track Name          Artist  Streams  \\\n",
       "0         1  Stay (with Justin Bieber)   The Kid LAROI  1863631   \n",
       "1         2                   good 4 u  Olivia Rodrigo  1619876   \n",
       "2         3   Kiss Me More (feat. SZA)        Doja Cat  1154660   \n",
       "3         4                 Ain't Shit        Doja Cat   997997   \n",
       "4         5                    Beggin'        Måneskin   980955   \n",
       "\n",
       "                                                     URL  \\\n",
       "0  https://open.spotify.com/track/5HCyWlXZPP0y6Gqq8TgA20   \n",
       "1  https://open.spotify.com/track/4ZtFanR9U6ndgddUvNcjcG   \n",
       "2  https://open.spotify.com/track/3DarAbFujv6eYNliUTyqtz   \n",
       "3  https://open.spotify.com/track/5lAnYvAIkSDNXqfo7DyFUm   \n",
       "4  https://open.spotify.com/track/3Wrjm47oTz2sjIgck11l5e   \n",
       "\n",
       "                       ID  \n",
       "0  5HCyWlXZPP0y6Gqq8TgA20  \n",
       "1  4ZtFanR9U6ndgddUvNcjcG  \n",
       "2  3DarAbFujv6eYNliUTyqtz  \n",
       "3  5lAnYvAIkSDNXqfo7DyFUm  \n",
       "4  3Wrjm47oTz2sjIgck11l5e  "
      ]
     },
     "execution_count": 7,
     "metadata": {},
     "output_type": "execute_result"
    }
   ],
   "source": [
    "spotify_data_global_clean[\"ID\"] = spotify_data_global_clean[\"URL\"].str[31:]\n",
    "spotify_data_global_clean.head()"
   ]
  },
  {
   "cell_type": "code",
   "execution_count": 8,
   "metadata": {},
   "outputs": [
    {
     "data": {
      "text/plain": [
       "31"
      ]
     },
     "execution_count": 8,
     "metadata": {},
     "output_type": "execute_result"
    }
   ],
   "source": [
    "len(\"https://open.spotify.com/track/\")"
   ]
  },
  {
   "cell_type": "code",
   "execution_count": 9,
   "metadata": {},
   "outputs": [
    {
     "name": "stdout",
     "output_type": "stream",
     "text": [
      "0      5HCyWlXZPP0y6Gqq8TgA20\n",
      "1      4ZtFanR9U6ndgddUvNcjcG\n",
      "2      3DarAbFujv6eYNliUTyqtz\n",
      "3      5lAnYvAIkSDNXqfo7DyFUm\n",
      "4      3Wrjm47oTz2sjIgck11l5e\n",
      "                ...          \n",
      "195    2JvzF1RMd7lE3KmFlsyZD8\n",
      "196    57RA3JGafJm5zRtKJiKPIm\n",
      "197    7d8dqy6GbiUqotcTSs0jXg\n",
      "198    3ee8Jmje8o58CHK66QrVC2\n",
      "199    0u2P5u6lvoDfwTYjAADbn4\n",
      "Name: URL, Length: 200, dtype: object\n"
     ]
    }
   ],
   "source": [
    "test = spotify_data_global_clean[\"URL\"].str\n",
    "print(test[31:])"
   ]
  },
  {
   "cell_type": "code",
   "execution_count": 12,
   "metadata": {},
   "outputs": [],
   "source": [
    "token = \"BQAiYo1psci57apmkPcr-nmmEvr2uIV8_7XSYoHRHsMH2buGoPHqrCVadq6bbTt2lv-KKRBEBymmUf8qeDnuwKkdkzragEyXU7RdfoVMQW4r6Pfe3JeuSY1501KR5p0eKOC2_IaSSW99o9rwW75znrm7ilqOjPtA_r0JZgRhaVJZeZsF1pvDaqKP1ZHVA8DS2JichQ\"\n",
    "headers_dict = {\"Authorization\": f'Bearer {token}'}\n",
    "\n",
    "# Initialize PyMongo to work with MongoDBs\n",
    "conn = 'mongodb://localhost:27017'\n",
    "client = pymongo.MongoClient(conn)\n",
    "\n",
    "# Define database and collection\n",
    "db = client.Spotifydb\n",
    "collection = db.TopGlobal\n",
    "collection.drop()\n",
    "\n",
    "rows=len(spotify_data_global_clean)\n",
    "global_dict={}\n",
    "# spotify_artist_dict=[]\n",
    "\n",
    "for row in range(0,rows):\n",
    "    # Hacer el llamado a la API de Spotify usando spotify_data_wNA.iloc[row,4]\n",
    "    artist_id = spotify_data_global_clean.iloc[row,5]\n",
    "    artist_name = spotify_data_global_clean.iloc[row,2]\n",
    "    track_name = spotify_data_global_clean.iloc[row,1]\n",
    "\n",
    "    \n",
    "    response = requests.get(f'https://api.spotify.com/v1/audio-features?ids={artist_id}', headers=headers_dict).json()\n",
    "    # print(response)\n",
    "    # artist_id = response[\"audio_features\"]\n",
    "    # print(response[\"audio_features\"])\n",
    "\n",
    "    danceability = response[\"audio_features\"][0][\"danceability\"]\n",
    "    energy = response[\"audio_features\"][0][\"energy\"]\n",
    "    key = response[\"audio_features\"][0][\"liveness\"]\n",
    "    loudness = response[\"audio_features\"][0][\"key\"]\n",
    "    acousticness = response[\"audio_features\"][0][\"acousticness\"]\n",
    "    instrumentalness = response[\"audio_features\"][0][\"instrumentalness\"]\n",
    "    liveness = response[\"audio_features\"][0][\"liveness\"]\n",
    "    valence = response[\"audio_features\"][0][\"valence\"]\n",
    "    tempo = response[\"audio_features\"][0][\"tempo\"]\n",
    "    track_href = response[\"audio_features\"][0][\"track_href\"]\n",
    "        \n",
    "        \n",
    "    global_dict={'Artist Name':artist_name,\n",
    "                 'Track Name':track_name,\n",
    "                 'Danceability': danceability,\n",
    "                 'Energy': energy,\n",
    "                 'Key': key,\n",
    "                 'Loudness': loudness,\n",
    "                 'Acousticness': acousticness,\n",
    "                 'Instrumentalness': instrumentalness,\n",
    "                 'Liveness': liveness,\n",
    "                 'Valence': valence,\n",
    "                 'Tempo': tempo,\n",
    "                 'Track Reference': track_href\n",
    "                 }\n",
    "    collection.insert_one(global_dict)\n",
    "#     spotify_artist_dict.append(artist_dict)\n",
    "   \n",
    "#     print(global_dict)"
   ]
  },
  {
   "cell_type": "code",
   "execution_count": null,
   "metadata": {},
   "outputs": [],
   "source": []
  }
 ],
 "metadata": {
  "kernelspec": {
   "display_name": "Python 3",
   "language": "python",
   "name": "python3"
  },
  "language_info": {
   "codemirror_mode": {
    "name": "ipython",
    "version": 3
   },
   "file_extension": ".py",
   "mimetype": "text/x-python",
   "name": "python",
   "nbconvert_exporter": "python",
   "pygments_lexer": "ipython3",
   "version": "3.8.5"
  }
 },
 "nbformat": 4,
 "nbformat_minor": 4
}
