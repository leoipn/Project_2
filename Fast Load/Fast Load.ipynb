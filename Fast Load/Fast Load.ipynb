{
 "cells": [
  {
   "cell_type": "markdown",
   "metadata": {
    "id": "erQFhuE_WZfo"
   },
   "source": [
    "# Load Spotify Data form JSONs already constructed\n",
    "<hr>"
   ]
  },
  {
   "cell_type": "markdown",
   "metadata": {
    "id": "Yl--BBGuWZfs"
   },
   "source": [
    "### Dependencies"
   ]
  },
  {
   "cell_type": "code",
   "execution_count": 1,
   "metadata": {
    "id": "K2bFMLTpWZft"
   },
   "outputs": [],
   "source": [
    "import pandas as pd\n",
    "import datetime as dt\n",
    "from sqlalchemy import create_engine\n",
    "import requests\n",
    "import pymongo"
   ]
  },
  {
   "cell_type": "markdown",
   "metadata": {},
   "source": [
    "### Extract and Load Data Set for TOP 200 BY COUNTRY"
   ]
  },
  {
   "cell_type": "code",
   "execution_count": 2,
   "metadata": {},
   "outputs": [],
   "source": [
    "Top200Country_json = pd.read_json('../Resources/SpotifyTop200byCountry.json', encoding='UTF-8')\n",
    "Top200Country_df = pd.DataFrame(Top200Country_json)\n",
    "\n",
    "# Some date formarting to the Month Year Field\n",
    "Top200Country_df[\"MonthYear\"] = (Top200Country_df['Date'].dt.strftime('%m')).astype(str)+\"-01-\"+(pd.DatetimeIndex(Top200Country_df['Date']).year).astype(str)\n",
    "Top200Country_df[\"MonthYear\"] = pd.to_datetime(Top200Country_df[\"MonthYear\"], format=\"%m-%d-%Y\")\n",
    "\n",
    "# Top200Country_df.head()"
   ]
  },
  {
   "cell_type": "code",
   "execution_count": 3,
   "metadata": {},
   "outputs": [],
   "source": [
    "# Initialize PyMongo to work with MongoDBs\n",
    "conn = 'mongodb://localhost:27017'\n",
    "client = pymongo.MongoClient(conn)\n",
    "\n",
    "# Define database and collection\n",
    "db = client.Spotifydb\n",
    "collection = db.Top200byCountry\n",
    "collection.drop()\n",
    "\n",
    "\n",
    "rows=len(Top200Country_df)\n",
    "data=Top200Country_df\n",
    "songs_dict={}\n",
    "x=0\n",
    "\n",
    "\n",
    "for row in range(0,10000):\n",
    "        \n",
    "    songs_dict={\n",
    "                'Date':data.iloc[row,2],\n",
    "                'MonthYear':data.iloc[row,6],\n",
    "                'Track_Name':data.iloc[row,9],\n",
    "                'Artist':data.iloc[row,0],\n",
    "                'Genre':data.iloc[row,3],\n",
    "                'Genres':data.iloc[row,4],\n",
    "                'Streams':data.iloc[row,8].astype(float),\n",
    "                'Country':data.iloc[row,1],\n",
    "                'Position':data.iloc[row,7].astype(float),                \n",
    "                'Track_URL':data.iloc[row,10],\n",
    "                'Image':data.iloc[row,5],\n",
    "                 }\n",
    "    \n",
    "    collection.insert_one(songs_dict)"
   ]
  },
  {
   "cell_type": "markdown",
   "metadata": {
    "id": "xrGsEJu3WZfu"
   },
   "source": [
    "### Extract and Load Data Set for TOP GLOBAL POPULARITY"
   ]
  },
  {
   "cell_type": "code",
   "execution_count": 4,
   "metadata": {},
   "outputs": [],
   "source": [
    "TopGlobal_json = pd.read_json('../Resources/TopGlobal.json', encoding='UTF-8')\n",
    "TopGlobal_df = pd.DataFrame(TopGlobal_json)\n",
    "# TopGlobal_df.head()"
   ]
  },
  {
   "cell_type": "code",
   "execution_count": 5,
   "metadata": {},
   "outputs": [],
   "source": [
    "# Initialize PyMongo to work with MongoDBs\n",
    "conn = 'mongodb://localhost:27017'\n",
    "client = pymongo.MongoClient(conn)\n",
    "\n",
    "# Define database and collection\n",
    "db = client.Spotifydb\n",
    "collection = db.TopGlobal\n",
    "collection.drop()\n",
    "\n",
    "\n",
    "rows = len(TopGlobal_df)\n",
    "data = TopGlobal_df\n",
    "songs_dict = {}\n",
    "x=0\n",
    "\n",
    "\n",
    "for row in range(0,rows):\n",
    "        \n",
    "    songs_dict={'Artist Name':data.iloc[row,1],\n",
    "                'Track Name':data.iloc[row,2],\n",
    "                'Danceability':data.iloc[row,3].astype(float),\n",
    "                'Energy':data.iloc[row,4].astype(float),\n",
    "                'Key':data.iloc[row,5].astype(float),\n",
    "                'Loudness':data.iloc[row,6].astype(float),\n",
    "                'Acousticness':data.iloc[row,7].astype(float),\n",
    "                'Instrumentalness':data.iloc[row,8].astype(float),\n",
    "                'Liveness':data.iloc[row,9].astype(float),\n",
    "                'Valence':data.iloc[row,10].astype(float),\n",
    "                'Tempo':data.iloc[row,11].astype(float),\n",
    "                'Track Reference':data.iloc[row,12],\n",
    "                 }\n",
    "    \n",
    "    collection.insert_one(songs_dict)"
   ]
  }
 ],
 "metadata": {
  "colab": {
   "name": "Untitled.ipynb",
   "provenance": []
  },
  "kernelspec": {
   "display_name": "Python 3",
   "language": "python",
   "name": "python3"
  },
  "language_info": {
   "codemirror_mode": {
    "name": "ipython",
    "version": 3
   },
   "file_extension": ".py",
   "mimetype": "text/x-python",
   "name": "python",
   "nbconvert_exporter": "python",
   "pygments_lexer": "ipython3",
   "version": "3.8.8"
  }
 },
 "nbformat": 4,
 "nbformat_minor": 1
}
